{
 "metadata": {
  "name": ""
 },
 "nbformat": 3,
 "nbformat_minor": 0,
 "worksheets": [
  {
   "cells": [
    {
     "cell_type": "heading",
     "level": 2,
     "metadata": {},
     "source": [
      "Demo of running AMRClaw Fortran code and plotting results"
     ]
    },
    {
     "cell_type": "heading",
     "level": 3,
     "metadata": {},
     "source": [
      "This notebook will appear in apps/notebooks/amrclaw_advection_2d_square (?)"
     ]
    },
    {
     "cell_type": "markdown",
     "metadata": {},
     "source": [
      "This example is adapted from $CLAW/amrclaw/examples/advection_2d_square to illustrate the use of IPython notebooks.\n",
      "\n",
      "The setrun.py and setplot.py files are taken from that example but some parameters are modified in the notebook below.\n",
      "\n",
      "The 2-dimensional advection equation $q_t + uq_x + vq_y = 0$ is solved in the unit square with periodic boundary conditions.  The constant advection velocities $u$ and $v$ are specified in setrun.py but could be changed below."
     ]
    },
    {
     "cell_type": "markdown",
     "metadata": {},
     "source": [
      "Have plots appear in notebook:"
     ]
    },
    {
     "cell_type": "code",
     "collapsed": false,
     "input": [
      "%pylab inline"
     ],
     "language": "python",
     "metadata": {},
     "outputs": []
    },
    {
     "cell_type": "markdown",
     "metadata": {},
     "source": [
      "Set the environment variable CLAW used by the Fortran Makefile:"
     ]
    },
    {
     "cell_type": "code",
     "collapsed": false,
     "input": [
      "import os\n",
      "CLAW = os.environ['CLAW'] \n",
      "print CLAW"
     ],
     "language": "python",
     "metadata": {},
     "outputs": []
    },
    {
     "cell_type": "markdown",
     "metadata": {},
     "source": [
      "Make sure we're in the right directory:"
     ]
    },
    {
     "cell_type": "code",
     "collapsed": false,
     "input": [
      "example_dir = os.getcwd()\n",
      "print example_dir"
     ],
     "language": "python",
     "metadata": {},
     "outputs": []
    },
    {
     "cell_type": "heading",
     "level": 3,
     "metadata": {},
     "source": [
      "Compile the code:"
     ]
    },
    {
     "cell_type": "code",
     "collapsed": false,
     "input": [
      "%%system\n",
      "make .exe"
     ],
     "language": "python",
     "metadata": {},
     "outputs": []
    },
    {
     "cell_type": "heading",
     "level": 3,
     "metadata": {},
     "source": [
      "Prepare to run code:"
     ]
    },
    {
     "cell_type": "code",
     "collapsed": false,
     "input": [
      "from clawpack.clawutil.runclaw import runclaw\n",
      "import setrun\n",
      "\n",
      "outdir = '_output'\n",
      "rundata = setrun.setrun()"
     ],
     "language": "python",
     "metadata": {},
     "outputs": []
    },
    {
     "cell_type": "heading",
     "level": 3,
     "metadata": {},
     "source": [
      "Adjust some run parameters:"
     ]
    },
    {
     "cell_type": "markdown",
     "metadata": {},
     "source": [
      "The file setrun.py in this directory contains the basic runtime parameters which could be used directly.\n",
      "\n",
      "If you change these parameters, select \"Run all\" from the Cell menu to redo the run and the plots.\n",
      "\n",
      "Here we adjust the mesh to be $40 \\times 40$ and add a second gauge at $(0.6,0.8)$ in addition to the one specified in setrun.py"
     ]
    },
    {
     "cell_type": "code",
     "collapsed": false,
     "input": [
      "rundata.clawdata.num_cells = [40,40]\n",
      "rundata.gaugedata.gauges.append([2, 0.6, 0.8, 0., 10.]) "
     ],
     "language": "python",
     "metadata": {},
     "outputs": []
    },
    {
     "cell_type": "markdown",
     "metadata": {},
     "source": [
      "The advection velocities could be changed here (in setrun.py, $(u,v) = (0.5,1)$."
     ]
    },
    {
     "cell_type": "code",
     "collapsed": false,
     "input": [
      "rundata.probdata.u = 0.5\n",
      "rundata.probdata.v = 1.0"
     ],
     "language": "python",
     "metadata": {},
     "outputs": []
    },
    {
     "cell_type": "markdown",
     "metadata": {},
     "source": [
      "Change the limiter if you want to experiment with other methods.  A list of 1 limiter is required since this is a scalar problem with only 1 wave in the Riemann solution.\n",
      "\n",
      "In particular, set the limiter to ['none'] to see the oscillations that arise if Lax-Wendroff is used with no limiter."
     ]
    },
    {
     "cell_type": "code",
     "collapsed": false,
     "input": [
      "rundata.clawdata.limiter = ['vanleer']"
     ],
     "language": "python",
     "metadata": {},
     "outputs": []
    },
    {
     "cell_type": "heading",
     "level": 3,
     "metadata": {},
     "source": [
      "Write the data out (for the Fortran code to read in) and run the code:"
     ]
    },
    {
     "cell_type": "code",
     "collapsed": false,
     "input": [
      "rundata.write()\n",
      "runclaw(xclawcmd='xamr', outdir=outdir, overwrite=True, restart=False, rundir='.')"
     ],
     "language": "python",
     "metadata": {},
     "outputs": []
    },
    {
     "cell_type": "heading",
     "level": 3,
     "metadata": {},
     "source": [
      "Prepare for plotting:"
     ]
    },
    {
     "cell_type": "code",
     "collapsed": false,
     "input": [
      "from clawpack.visclaw.data import ClawPlotData\n",
      "import setplot\n",
      "\n",
      "plotdir = '_plots'\n",
      "plotdata = ClawPlotData()\n",
      "plotdata = setplot.setplot(plotdata)\n",
      "plotdata.outdir = outdir\n",
      "plotdata.plotdir = plotdir"
     ],
     "language": "python",
     "metadata": {},
     "outputs": []
    },
    {
     "cell_type": "heading",
     "level": 3,
     "metadata": {},
     "source": [
      "Plot one frame of the solution:"
     ]
    },
    {
     "cell_type": "code",
     "collapsed": false,
     "input": [
      "plotdata.plotframe(2); show()"
     ],
     "language": "python",
     "metadata": {},
     "outputs": []
    },
    {
     "cell_type": "heading",
     "level": 3,
     "metadata": {},
     "source": [
      "Adjust some plot parameters:"
     ]
    },
    {
     "cell_type": "code",
     "collapsed": false,
     "input": [
      "plotdata.showitems()"
     ],
     "language": "python",
     "metadata": {},
     "outputs": []
    },
    {
     "cell_type": "code",
     "collapsed": false,
     "input": [
      "plotitem = plotdata.getitem('ITEM1','AXES1','pcolor')\n",
      "plotitem.amr_patchedges_show = [1]  # show patch edges on all levels\n",
      "plotitem.amr_celledges_show = [1,0] # only show grid cells on coarsest level"
     ],
     "language": "python",
     "metadata": {},
     "outputs": []
    },
    {
     "cell_type": "heading",
     "level": 3,
     "metadata": {},
     "source": [
      "Plot several frames with the new parameters:"
     ]
    },
    {
     "cell_type": "code",
     "collapsed": false,
     "input": [
      "for frameno in range(4):\n",
      "    plotdata.plotframe(frameno)\n",
      "    show()\n"
     ],
     "language": "python",
     "metadata": {},
     "outputs": []
    },
    {
     "cell_type": "heading",
     "level": 3,
     "metadata": {},
     "source": [
      "Make png files for all frames, using original setplot function from setplot.py:"
     ]
    },
    {
     "cell_type": "markdown",
     "metadata": {},
     "source": [
      "Currently using plotpages.plotclaw_driver below screws up where output is printed.  We need to fix this, but for now save these for resetting later..."
     ]
    },
    {
     "cell_type": "code",
     "collapsed": false,
     "input": [
      "import sys\n",
      "sys_stdout = sys.stdout\n",
      "sys_stderr = sys.stderr"
     ],
     "language": "python",
     "metadata": {},
     "outputs": []
    },
    {
     "cell_type": "code",
     "collapsed": false,
     "input": [
      "#plotdata.setplot = False # to keep changes made above to plotdata\n",
      "plotdata.setplot = setplot.setplot # to use original setplot function\n",
      "plotdata.plotdir = plotdir"
     ],
     "language": "python",
     "metadata": {},
     "outputs": []
    },
    {
     "cell_type": "code",
     "collapsed": false,
     "input": [
      "from clawpack.visclaw import plotpages\n",
      "plotpages.plotclaw_driver(plotdata, verbose=False)\n",
      "sys.stdout = sys_stdout;  sys.stderr = sys_stderr"
     ],
     "language": "python",
     "metadata": {},
     "outputs": []
    },
    {
     "cell_type": "markdown",
     "metadata": {},
     "source": [
      "Note the figures displayed above are the final plots produced by plotpages (e.g. last frame)"
     ]
    },
    {
     "cell_type": "heading",
     "level": 3,
     "metadata": {},
     "source": [
      "One way to display a sequence of plot images as an animation:"
     ]
    },
    {
     "cell_type": "markdown",
     "metadata": {},
     "source": [
      "After creating all png files in the _plots directory..."
     ]
    },
    {
     "cell_type": "code",
     "collapsed": false,
     "input": [
      "import glob\n",
      "from matplotlib import image\n",
      "from clawpack.visclaw.JSAnimation import IPython_display\n",
      "from matplotlib import animation\n",
      "\n",
      "figno = 0\n",
      "fname = '_plots/*fig' + str(figno) + '.png'\n",
      "filenames=sorted(glob.glob(fname))\n",
      "\n",
      "fig = plt.figure()\n",
      "im = plt.imshow(image.imread(filenames[0]))\n",
      "def init():\n",
      "    im.set_data(image.imread(filenames[0]))\n",
      "    return im,\n",
      "\n",
      "def animate(i):\n",
      "    image_i=image.imread(filenames[i])\n",
      "    im.set_data(image_i)\n",
      "    return im,\n",
      "\n",
      "animation.FuncAnimation(fig, animate, init_func=init,\n",
      "                              frames=len(filenames), interval=20, blit=True)"
     ],
     "language": "python",
     "metadata": {},
     "outputs": []
    },
    {
     "cell_type": "heading",
     "level": 3,
     "metadata": {},
     "source": [
      "Explore the gauge output:\n"
     ]
    },
    {
     "cell_type": "code",
     "collapsed": false,
     "input": [
      "for gaugeno in [1,2]:\n",
      "    gauge = plotdata.getgauge(gaugeno)\n",
      "    q = gauge.q[0,:]\n",
      "    t = gauge.t\n",
      "    qmax = q.max()\n",
      "    tmax = t[q.argmax()]\n",
      "    print \"Gauge %s at %s has a maximum value of q = %7.5f at t = %7.5f\"  % (gaugeno, gauge.location, qmax, tmax)\n",
      "    plot(t,q,label=\"Gauge %s\" % gaugeno)\n",
      "legend()\n",
      "ylim(-0.1,1.1)\n",
      "xlabel('time')\n",
      "ylabel('q at gauge')\n",
      "title(\"Gauge output\")"
     ],
     "language": "python",
     "metadata": {},
     "outputs": []
    }
   ],
   "metadata": {}
  }
 ]
}