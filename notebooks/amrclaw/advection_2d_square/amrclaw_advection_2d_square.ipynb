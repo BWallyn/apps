{
 "metadata": {
  "name": ""
 },
 "nbformat": 3,
 "nbformat_minor": 0,
 "worksheets": [
  {
   "cells": [
    {
     "cell_type": "heading",
     "level": 2,
     "metadata": {},
     "source": [
      "Demo of running AMRClaw Fortran code and plotting results"
     ]
    },
    {
     "cell_type": "markdown",
     "metadata": {},
     "source": [
      "This notebook can be found in `$CLAW/apps/notebooks/amrclaw_advection_2d_square`\n",
      "\n",
      "The is adapted from $CLAW/amrclaw/examples/advection_2d_square to illustrate the use of IPython notebooks.\n",
      "\n",
      "The setrun.py and setplot.py files are taken from that example but some parameters are modified in the notebook below.\n",
      "\n",
      "The 2-dimensional advection equation $q_t + uq_x + vq_y = 0$ is solved in the unit square with periodic boundary conditions.  The constant advection velocities $u$ and $v$ are specified in setrun.py but can be changed below."
     ]
    },
    {
     "cell_type": "markdown",
     "metadata": {},
     "source": [
      "Have plots appear inline in notebook:"
     ]
    },
    {
     "cell_type": "code",
     "collapsed": false,
     "input": [
      "%pylab inline"
     ],
     "language": "python",
     "metadata": {},
     "outputs": [],
     "prompt_number": null
    },
    {
     "cell_type": "markdown",
     "metadata": {},
     "source": [
      "Set the environment variable CLAW used by the Fortran Makefile:"
     ]
    },
    {
     "cell_type": "code",
     "collapsed": false,
     "input": [
      "import os\n",
      "CLAW = os.environ['CLAW'] \n",
      "print CLAW"
     ],
     "language": "python",
     "metadata": {},
     "outputs": [],
     "prompt_number": null
    },
    {
     "cell_type": "markdown",
     "metadata": {},
     "source": [
      "Make sure we're in the right directory:"
     ]
    },
    {
     "cell_type": "code",
     "collapsed": false,
     "input": [
      "example_dir = os.getcwd()\n",
      "print example_dir"
     ],
     "language": "python",
     "metadata": {},
     "outputs": [],
     "prompt_number": null
    },
    {
     "cell_type": "markdown",
     "metadata": {},
     "source": [
      "### Define functions used to execute system commands and capture output:\n",
      "\n",
      "Possibly move this code to a shared `notebook_tools.py`?"
     ]
    },
    {
     "cell_type": "code",
     "collapsed": false,
     "input": [
      "def make_exe():\n",
      "    \"\"\"Perform 'make .exe' and display link.\"\"\"\n",
      "    from IPython.display import FileLink\n",
      "    import os\n",
      "    \n",
      "    fname='compile_output.txt'\n",
      "    status = os.system('make .exe &> %s' % fname)\n",
      "    \n",
      "    local_file = FileLink(fname)\n",
      "    print \"make .exe:  Status = %s, Check this file to see output:\" % status\n",
      "    display(local_file)\n",
      "    \n",
      "def make_output():\n",
      "    \"\"\"Perform 'make output' and display link.\"\"\"\n",
      "    from IPython.display import FileLink\n",
      "    import os\n",
      "    \n",
      "    fname='run_output.txt'\n",
      "    status = os.system('make .output &> %s' % fname)\n",
      "    \n",
      "    local_file = FileLink(fname)\n",
      "    print \"make .output:  Status = %s, Check this file to see output:\" % status\n",
      "    display(local_file)\n",
      "    \n",
      "def make_plots():\n",
      "    \"\"\"Perform 'make .plots' and display links\"\"\"\n",
      "    from IPython.display import FileLink\n",
      "    import os\n",
      "    \n",
      "    fname='plot_output.txt'\n",
      "    status = os.system('make plots &> %s' % fname)\n",
      "    \n",
      "    local_file = FileLink(fname)\n",
      "    print \"make .plots:  Status = %s, Check this file to see output:\" % status\n",
      "    display(local_file)\n",
      "    \n",
      "    index_file = FileLink('_plots/_PlotIndex.html')\n",
      "    print \"View plots created at this link:\"\n",
      "    display(index_file)\n",
      "    "
     ],
     "language": "python",
     "metadata": {},
     "outputs": [],
     "prompt_number": null
    },
    {
     "cell_type": "heading",
     "level": 3,
     "metadata": {},
     "source": [
      "Compile the code:"
     ]
    },
    {
     "cell_type": "code",
     "collapsed": false,
     "input": [
      "os.system('make clobber')  # to force recompilation and re-running\n",
      "make_exe()"
     ],
     "language": "python",
     "metadata": {},
     "outputs": [],
     "prompt_number": null
    },
    {
     "cell_type": "markdown",
     "metadata": {},
     "source": [
      "### Run the code and plot results using the setrun.py and setplot.py files in this directory:"
     ]
    },
    {
     "cell_type": "code",
     "collapsed": false,
     "input": [
      "make_output()\n",
      "make_plots()"
     ],
     "language": "python",
     "metadata": {},
     "outputs": [],
     "prompt_number": null
    },
    {
     "cell_type": "markdown",
     "metadata": {},
     "source": [
      "### One way to display the animation inline:\n",
      "\n",
      "After creating all png files in the _plots directory using make_plots above..."
     ]
    },
    {
     "cell_type": "code",
     "collapsed": false,
     "input": [
      "import clawpack.visclaw.JSAnimation.JSAnimation_frametools as J\n",
      "plotdir = '_plots'\n",
      "anim = J.make_anim(plotdir, figsize=(6,4))\n",
      "anim"
     ],
     "language": "python",
     "metadata": {},
     "outputs": [],
     "prompt_number": null
    },
    {
     "cell_type": "markdown",
     "metadata": {},
     "source": [
      "### Illustrate how to adjust some parameters and rerun the code: \n",
      "\n",
      "First read in the current rundata:"
     ]
    },
    {
     "cell_type": "code",
     "collapsed": false,
     "input": [
      "from clawpack.clawutil.runclaw import runclaw\n",
      "import setrun\n",
      "\n",
      "outdir = '_output2'\n",
      "rundata = setrun.setrun()"
     ],
     "language": "python",
     "metadata": {},
     "outputs": [],
     "prompt_number": null
    },
    {
     "cell_type": "markdown",
     "metadata": {},
     "source": [
      "Here we adjust the mesh to be $40 \\times 40$ and set two gauges at $(0.6, 0.4)$ and $(0.6,0.8)$."
     ]
    },
    {
     "cell_type": "code",
     "collapsed": false,
     "input": [
      "rundata.clawdata.num_cells = [40,40]\n",
      "rundata.gaugedata.gauges = [[1, 0.6, 0.4, 0., 10.], [2, 0.6, 0.8, 0., 10.]]"
     ],
     "language": "python",
     "metadata": {},
     "outputs": [],
     "prompt_number": null
    },
    {
     "cell_type": "markdown",
     "metadata": {},
     "source": [
      "The advection velocities can also be changed (in setrun.py, $(u,v) = (0.5,1)$."
     ]
    },
    {
     "cell_type": "code",
     "collapsed": false,
     "input": [
      "rundata.probdata.u = -1.0\n",
      "rundata.probdata.v = 0.0"
     ],
     "language": "python",
     "metadata": {},
     "outputs": [],
     "prompt_number": null
    },
    {
     "cell_type": "markdown",
     "metadata": {},
     "source": [
      "Change the limiter if you want to experiment with other methods.  A list of 1 limiter is required since this is a scalar problem with only 1 wave in the Riemann solution.\n",
      "\n",
      "In particular, set the limiter to ['none'] to see the oscillations that arise if Lax-Wendroff is used with no limiter."
     ]
    },
    {
     "cell_type": "code",
     "collapsed": false,
     "input": [
      "rundata.clawdata.limiter = ['vanleer']"
     ],
     "language": "python",
     "metadata": {},
     "outputs": [],
     "prompt_number": null
    },
    {
     "cell_type": "heading",
     "level": 3,
     "metadata": {},
     "source": [
      "Write the data out (for the Fortran code to read in) and run the code:"
     ]
    },
    {
     "cell_type": "code",
     "collapsed": false,
     "input": [
      "rundata.write()\n",
      "runclaw(xclawcmd='xamr', outdir=outdir, overwrite=True, restart=False, rundir='.')"
     ],
     "language": "python",
     "metadata": {},
     "outputs": [],
     "prompt_number": null
    },
    {
     "cell_type": "heading",
     "level": 3,
     "metadata": {},
     "source": [
      "Prepare for plotting:"
     ]
    },
    {
     "cell_type": "code",
     "collapsed": false,
     "input": [
      "from clawpack.visclaw.data import ClawPlotData\n",
      "import setplot\n",
      "\n",
      "plotdir = '_plots2'\n",
      "plotdata = ClawPlotData()\n",
      "plotdata = setplot.setplot(plotdata)\n",
      "plotdata.outdir = outdir\n",
      "plotdata.plotdir = plotdir\n",
      "\n",
      "os.system('mkdir -p %s' % plotdir)  # create the plotdir if it doesn't exist (should be done in visclaw.frametools.printfig?)"
     ],
     "language": "python",
     "metadata": {},
     "outputs": [],
     "prompt_number": null
    },
    {
     "cell_type": "heading",
     "level": 3,
     "metadata": {},
     "source": [
      "Plot one frame of the solution:"
     ]
    },
    {
     "cell_type": "code",
     "collapsed": false,
     "input": [
      "plotdata.plotframe(2); show()"
     ],
     "language": "python",
     "metadata": {},
     "outputs": [],
     "prompt_number": null
    },
    {
     "cell_type": "heading",
     "level": 3,
     "metadata": {},
     "source": [
      "Adjust some plot parameters:"
     ]
    },
    {
     "cell_type": "code",
     "collapsed": false,
     "input": [
      "plotdata.showitems()   # shows the currently defined figures, axes, items"
     ],
     "language": "python",
     "metadata": {},
     "outputs": [],
     "prompt_number": null
    },
    {
     "cell_type": "code",
     "collapsed": false,
     "input": [
      "plotitem = plotdata.getitem('ITEM1','AXES1','pcolor')\n",
      "plotitem.amr_patchedges_show = [1]  # show patch edges on all levels\n",
      "plotitem.amr_celledges_show = [1,0] # only show grid cells on coarsest level"
     ],
     "language": "python",
     "metadata": {},
     "outputs": [],
     "prompt_number": null
    },
    {
     "cell_type": "heading",
     "level": 3,
     "metadata": {},
     "source": [
      "Plot several frames with the new parameters:"
     ]
    },
    {
     "cell_type": "code",
     "collapsed": false,
     "input": [
      "for frameno in range(3):\n",
      "    plotdata.plotframe(frameno)\n",
      "    show()\n"
     ],
     "language": "python",
     "metadata": {},
     "outputs": [],
     "prompt_number": null
    },
    {
     "cell_type": "heading",
     "level": 3,
     "metadata": {},
     "source": [
      "Explore the gauge output:\n"
     ]
    },
    {
     "cell_type": "code",
     "collapsed": false,
     "input": [
      "for gaugeno in [1,2]:\n",
      "    gauge = plotdata.getgauge(gaugeno)\n",
      "    q = gauge.q[0,:]\n",
      "    t = gauge.t\n",
      "    qmax = q.max()\n",
      "    tmax = t[q.argmax()]\n",
      "    print \"Gauge %s at %s has a maximum value of q = %7.5f at t = %7.5f\"  % (gaugeno, gauge.location, qmax, tmax)\n",
      "    plot(t,q,label=\"Gauge %s\" % gaugeno)\n",
      "legend()\n",
      "ylim(-0.1,1.1)\n",
      "xlabel('time')\n",
      "ylabel('q at gauge')\n",
      "title(\"Gauge output\")"
     ],
     "language": "python",
     "metadata": {},
     "outputs": [],
     "prompt_number": null
    },
    {
     "cell_type": "code",
     "collapsed": false,
     "input": [],
     "language": "python",
     "metadata": {},
     "outputs": [],
     "prompt_number": null
    }
   ],
   "metadata": {}
  }
 ]
}