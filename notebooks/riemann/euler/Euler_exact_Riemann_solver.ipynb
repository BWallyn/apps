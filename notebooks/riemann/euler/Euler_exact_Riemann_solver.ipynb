{
 "metadata": {
  "name": "",
  "signature": "sha256:a870110f7de460795f417d8bda102d81e4860bcd5e93f662eda5f9d404adffa8"
 },
 "nbformat": 3,
 "nbformat_minor": 0,
 "worksheets": [
  {
   "cells": [
    {
     "cell_type": "heading",
     "level": 1,
     "metadata": {},
     "source": [
      "The Riemann problem for the Euler equations"
     ]
    },
    {
     "cell_type": "markdown",
     "metadata": {},
     "source": [
      "This is an exact Riemann solver for the one-dimensional Euler equations of compressible flow.  It is based on Sections 14.11-14.12 of [Randall LeVeque's finite volume text](http://depts.washington.edu/clawpack/book.html)."
     ]
    },
    {
     "cell_type": "markdown",
     "metadata": {},
     "source": [
      "## Contents\n",
      "\n",
      " - <a href=\"#solver\">Riemann solver</a>\n",
      " - <a href=\"#examples\">Example Riemann problems</a>\n",
      "     - <a href=\"#sod\">Sod shock tube</a>\n",
      "     - <a href=\"#expansion\">Expansion</a>\n",
      "     - <a href=\"#collision\">Collision</a>\n",
      " - <a href=\"#interact\">Interactive widget</a>"
     ]
    },
    {
     "cell_type": "code",
     "collapsed": false,
     "input": [
      "%matplotlib inline\n",
      "import numpy as np\n",
      "import matplotlib.pyplot as plt\n",
      "from scipy.optimize import fsolve"
     ],
     "language": "python",
     "metadata": {},
     "outputs": []
    },
    {
     "cell_type": "heading",
     "level": 1,
     "metadata": {},
     "source": [
      "<div id=\"solver\"></div>\n",
      "\n",
      "Riemann solver"
     ]
    },
    {
     "cell_type": "markdown",
     "metadata": {},
     "source": [
      "The cell below contains the code for the Riemann solver.  In order to be similar to approximate Riemann solvers used in numerical codes, it takes the conserved quantities *(density, momentum, energy)* as inputs.  For convenience, it returns the solution in primitive variables *(density, velocity, pressure)*."
     ]
    },
    {
     "cell_type": "code",
     "collapsed": false,
     "input": [
      "def exact_riemann_solution(q_l,q_r,x=None,t=None,gamma=1.4):\n",
      "    \"\"\"Return the exact solution to the Riemann problem with initial states q_l, q_r.\n",
      "       The solution is computed at time t and points x (where x may be a 1D numpy array).\n",
      "       \n",
      "       The input vectors are the conserved quantities but the outputs are [rho,u,p].\n",
      "    \"\"\"\n",
      "    rho_l = q_l[0]\n",
      "    u_l = q_l[1]/q_l[0]\n",
      "    E_l = q_l[2]\n",
      "    \n",
      "    rho_r = q_r[0]\n",
      "    u_r = q_r[1]/q_r[0]\n",
      "    E_r = q_r[2]\n",
      "\n",
      "    # Compute left and right state pressures\n",
      "    p_l = (gamma-1.)*(E_l - 0.5*rho_l*u_l**2)\n",
      "    p_r = (gamma-1.)*(E_r - 0.5*rho_r*u_r**2)\n",
      "\n",
      "    # Compute left and right state sound speeds\n",
      "    c_l = np.sqrt(gamma*p_l/rho_l)\n",
      "    c_r = np.sqrt(gamma*p_r/rho_r)\n",
      "    \n",
      "    alpha = (gamma-1.)/(2.*gamma)\n",
      "    beta = (gamma+1.)/(gamma-1.)\n",
      "\n",
      "    # Check for cavitation\n",
      "    if u_l - u_r + 2*(c_l+c_r)/(gamma-1.) < 0:\n",
      "        print 'Cavitation detected!  Exiting.'\n",
      "        return None\n",
      "    \n",
      "    # Define the integral curves and hugoniot loci\n",
      "    integral_curve_1   = lambda p : u_l + 2*c_l/(gamma-1.)*(1.-(p/p_l)**((gamma-1.)/(2.*gamma)))\n",
      "    integral_curve_3   = lambda p : u_r - 2*c_r/(gamma-1.)*(1.-(p/p_r)**((gamma-1.)/(2.*gamma)))\n",
      "    hugoniot_locus_1 = lambda p : u_l + 2*c_l/np.sqrt(2*gamma*(gamma-1.)) * ((1-p/p_l)/np.sqrt(1+beta*p/p_l))\n",
      "    hugoniot_locus_3 = lambda p : u_r - 2*c_r/np.sqrt(2*gamma*(gamma-1.)) * ((1-p/p_r)/np.sqrt(1+beta*p/p_r))\n",
      "    \n",
      "    # Check whether the 1-wave is a shock or rarefaction\n",
      "    def phi_l(p):        \n",
      "        if p>=p_l: return hugoniot_locus_1(p)\n",
      "        else: return integral_curve_1(p)\n",
      "    \n",
      "    # Check whether the 1-wave is a shock or rarefaction\n",
      "    def phi_r(p):\n",
      "        if p>=p_r: return hugoniot_locus_3(p)\n",
      "        else: return integral_curve_3(p)\n",
      "        \n",
      "    phi = lambda p : phi_l(p)-phi_r(p)\n",
      "\n",
      "    # Compute middle state p, u by finding curve intersection\n",
      "    p,info, ier, msg = fsolve(phi, (p_l+p_r)/2.,full_output=True,xtol=1.e-14)\n",
      "    # For strong rarefactions, sometimes fsolve needs help\n",
      "    if ier!=1:\n",
      "        p,info, ier, msg = fsolve(phi, (p_l+p_r)/2.,full_output=True,factor=0.1,xtol=1.e-10)\n",
      "        # This should not happen:\n",
      "        if ier!=1: \n",
      "            print 'Warning: fsolve did not converge.'\n",
      "            print msg\n",
      "\n",
      "    u = phi_l(p)\n",
      "\n",
      "    \n",
      "    # Find middle state densities\n",
      "    rho_l_star = (p/p_l)**(1./gamma) * rho_l\n",
      "    rho_r_star = (p/p_r)**(1./gamma) * rho_r\n",
      "        \n",
      "    # compute the wave speeds\n",
      "    ws = np.zeros(5) \n",
      "    # The contact speed:\n",
      "    ws[2] = u\n",
      "    \n",
      "    # Find shock and rarefaction speeds\n",
      "    if p>p_l: \n",
      "        ws[0] = (rho_l*u_l - rho_l_star*u)/(rho_l - rho_l_star)\n",
      "        ws[1] = ws[0]\n",
      "    else:\n",
      "        c_l_star = np.sqrt(gamma*p/rho_l_star)\n",
      "        ws[0] = u_l - c_l\n",
      "        ws[1] = u - c_l_star\n",
      "\n",
      "    if p>p_r: \n",
      "        ws[4] = (rho_r*u_r - rho_r_star*u)/(rho_r - rho_r_star)\n",
      "        ws[3] = ws[4]\n",
      "    else:\n",
      "        c_r_star = np.sqrt(gamma*p/rho_r_star)\n",
      "        ws[3] = u+c_r_star\n",
      "        ws[4] = u_r + c_r    \n",
      "    \n",
      "\n",
      "    # Compute return values\n",
      "\n",
      "    # Choose a time based on the wave speeds\n",
      "    if x is None: x = np.linspace(-1.,1.,1000)\n",
      "    if t is None: t = 0.8*max(np.abs(x))/max(np.abs(ws))\n",
      "    \n",
      "    xs = ws*t # Wave locations\n",
      "        \n",
      "    # Find solution inside rarefaction fans\n",
      "    xi = x/t\n",
      "    u1 = ((gamma-1.)*u_l + 2*(c_l + xi))/(gamma+1.)\n",
      "    u3 = ((gamma-1.)*u_r - 2*(c_r - xi))/(gamma+1.)\n",
      "    rho1 = (rho_l**gamma*(u1-xi)**2/(gamma*p_l))**(1./(gamma-1.))\n",
      "    rho3 = (rho_r**gamma*(xi-u3)**2/(gamma*p_r))**(1./(gamma-1.))\n",
      "    p1 = p_l*(rho1/rho_l)**gamma\n",
      "    p3 = p_r*(rho3/rho_r)**gamma\n",
      "    \n",
      "    rho_out = (x<=xs[0])*rho_l + (x>xs[0])*(x<=xs[1])*rho1 + (x>xs[1])*(x<=xs[2])*rho_l_star + (x>xs[2])*(x<=xs[3])*rho_r_star + (x>xs[3])*(x<=xs[4])*rho3 + (x>xs[4])*rho_r\n",
      "    u_out   = (x<=xs[0])*u_l + (x>xs[0])*(x<=xs[1])*u1 + (x>xs[1])*(x<=xs[2])*u + (x>xs[2])*(x<=xs[3])*u + (x>xs[3])*(x<=xs[4])*u3 + (x>xs[4])*u_r\n",
      "    p_out   = (x<=xs[0])*p_l + (x>xs[0])*(x<=xs[1])*p1 + (x>xs[1])*(x<=xs[2])*p + (x>xs[2])*(x<=xs[3])*p + (x>xs[3])*(x<=xs[4])*p3 + (x>xs[4])*p_r\n",
      "    return rho_out, u_out, p_out"
     ],
     "language": "python",
     "metadata": {},
     "outputs": []
    },
    {
     "cell_type": "heading",
     "level": 1,
     "metadata": {},
     "source": [
      "<div id=\"examples\"></div>\n",
      "\n",
      "Examples"
     ]
    },
    {
     "cell_type": "markdown",
     "metadata": {},
     "source": [
      "Let's try this solver out on some interesting initial states.  Note that the Euler equations are invariant under Galilean transformations, so we can without loss of generality take $u_l+u_r=0$."
     ]
    },
    {
     "cell_type": "code",
     "collapsed": false,
     "input": [
      "gamma = 7./5."
     ],
     "language": "python",
     "metadata": {},
     "outputs": []
    },
    {
     "cell_type": "code",
     "collapsed": false,
     "input": [
      "def plot(rho, u, p, x):\n",
      "    fig = plt.figure(figsize=(18,6))\n",
      "    primitive = [rho,u,p]\n",
      "    names = ['Density','Velocity','Pressure']\n",
      "    axes = [0]*3\n",
      "    for i in range(3):\n",
      "        axes[i] = fig.add_subplot(1,3,i+1)\n",
      "        q = primitive[i]\n",
      "        plt.plot(x,q,linewidth=3)\n",
      "        plt.title(names[i])\n",
      "        qmax = max(q)\n",
      "        qmin = min(q)\n",
      "        qdiff = qmax - qmin\n",
      "        axes[i].set_ylim((qmin-0.1*qdiff,qmax+0.1*qdiff))"
     ],
     "language": "python",
     "metadata": {},
     "outputs": []
    },
    {
     "cell_type": "markdown",
     "metadata": {},
     "source": [
      "<div id=\"sod\"></div>\n",
      "\n",
      "#1: Sod shock tube"
     ]
    },
    {
     "cell_type": "markdown",
     "metadata": {},
     "source": [
      "First we consider the classic shock tube problem, with high density and pressure on the left, low density and pressure on the right.  Both sides are initially at rest.  The solution includes a rarefaction, a contact, and a shock."
     ]
    },
    {
     "cell_type": "code",
     "collapsed": false,
     "input": [
      "# Left and right states\n",
      "rho_l, u_l, p_l = 3., 0., 3.\n",
      "rho_r, u_r, p_r = 1., 0., 1.\n",
      "\n",
      "# Compute total energy\n",
      "E_l = p_l/(gamma-1.) + 0.5*rho_l*u_l**2\n",
      "E_r = p_r/(gamma-1.) + 0.5*rho_r*u_r**2\n",
      "\n",
      "# Conservative variable states\n",
      "q_l = [rho_l, rho_l*u_l, E_l]\n",
      "q_r = [rho_r, rho_r*u_r, E_r]\n",
      "\n",
      "x = np.linspace(-1.,1.,1000)\n",
      "rho, u, p = exact_riemann_solution(q_l, q_r, x, gamma=gamma)\n",
      "plot(rho,u,p,x)"
     ],
     "language": "python",
     "metadata": {},
     "outputs": []
    },
    {
     "cell_type": "heading",
     "level": 2,
     "metadata": {},
     "source": [
      "<div id=\"expansion\"></div>\n",
      "\n",
      "2: Symmetric expansion"
     ]
    },
    {
     "cell_type": "markdown",
     "metadata": {},
     "source": [
      "Next we consider the case of equal densities and pressures, and equal and opposite velocities, with the initial states moving away from each other.  The result is two rarefaction waves (the contact has zero strength)."
     ]
    },
    {
     "cell_type": "code",
     "collapsed": false,
     "input": [
      "# Left and right states\n",
      "rho_l, u_l, p_l = 1., -3., 1.\n",
      "rho_r, u_r, p_r = 1.,  3., 1.\n",
      "\n",
      "# Compute total energy\n",
      "E_l = p_l/(gamma-1.) + 0.5*rho_l*u_l**2\n",
      "E_r = p_r/(gamma-1.) + 0.5*rho_r*u_r**2\n",
      "\n",
      "# Conservative variable states\n",
      "q_l = [rho_l, rho_l*u_l, E_l]\n",
      "q_r = [rho_r, rho_r*u_r, E_r]\n",
      "\n",
      "rho, u, p = exact_riemann_solution(q_l, q_r, gamma=gamma)\n",
      "plot(rho,u,p,x)"
     ],
     "language": "python",
     "metadata": {},
     "outputs": []
    },
    {
     "cell_type": "markdown",
     "metadata": {},
     "source": [
      "Notice that, by symmetry, we must have $u=0$ in the middle state.  As we make the initial velocities larger in magnitude, the rarefaction waves increase in strength until the pressure and density at $x=0$ reach zero.  In the plot above, the middle pressure is very close but not quite equal to zero.\n",
      "\n",
      "For what initial velocity $u_r=-u_l$ does the middle pressure vanish?  We can find it by solving the equation that describes the 3- (or 1-) Riemann invariant with $u=p=0$.  For $\\rho_r=p_r=1$, this gives $u_r \\approx 5.916$.  What happens if the velocities are set to larger than this value in the problem above?\n",
      "\n",
      "More generally, cavitation occurs if\n",
      "\n",
      "$$u_l + 2\\frac{c_l}{\\gamma-1} < u_r + 2\\frac{c_r}{\\gamma-1}.$$\n"
     ]
    },
    {
     "cell_type": "heading",
     "level": 2,
     "metadata": {},
     "source": [
      "<div id=\"collision\"></div>\n",
      "\n",
      "3: Colliding flows"
     ]
    },
    {
     "cell_type": "markdown",
     "metadata": {},
     "source": [
      "Next, consider the case in which the left and right states are moving toward eachother.  This leads to a pair of shocks, with a high-density, high-pressure state in between."
     ]
    },
    {
     "cell_type": "code",
     "collapsed": false,
     "input": [
      "# Left and right states\n",
      "rho_l, u_l, p_l = 1.,  2.5, 1.\n",
      "rho_r, u_r, p_r = 1., -2.5, 1.\n",
      "\n",
      "# Compute total energy\n",
      "E_l = p_l/(gamma-1.) + 0.5*rho_l*u_l**2\n",
      "E_r = p_r/(gamma-1.) + 0.5*rho_r*u_r**2\n",
      "\n",
      "# Conservative variable states\n",
      "q_l = [rho_l, rho_l*u_l, E_l]\n",
      "q_r = [rho_r, rho_r*u_r, E_r]\n",
      "\n",
      "x = np.linspace(-1.,1.,1000)\n",
      "t = 0.4\n",
      "rho, u, p = exact_riemann_solution(q_l, q_r, x, t, gamma=gamma)\n",
      "plot(rho,u,p,x)"
     ],
     "language": "python",
     "metadata": {},
     "outputs": []
    },
    {
     "cell_type": "heading",
     "level": 2,
     "metadata": {},
     "source": [
      "<div id=\"interact\"></div>\n",
      "\n",
      "Interactive Riemann solver"
     ]
    },
    {
     "cell_type": "markdown",
     "metadata": {},
     "source": [
      "Here you can set up your own Riemann problem and immediately see the solution."
     ]
    },
    {
     "cell_type": "code",
     "collapsed": false,
     "input": [
      "from IPython.display import display, HTML\n",
      "from IPython.html import widgets\n",
      "from IPython.html.widgets import interact, interactive"
     ],
     "language": "python",
     "metadata": {},
     "outputs": []
    },
    {
     "cell_type": "code",
     "collapsed": false,
     "input": [
      "def plot_exact_riemann_solution(rho_l=3.,u_l=0.,p_l=3.,rho_r=1.,u_r=0.,p_r=1.,t=0.4):\n",
      "    E_l = p_l/(gamma-1.) + 0.5*rho_l*u_l**2\n",
      "    E_r = p_r/(gamma-1.) + 0.5*rho_r*u_r**2\n",
      "    \n",
      "    q_l = [rho_l, rho_l*u_l, E_l]\n",
      "    q_r = [rho_r, rho_r*u_r, E_r]\n",
      "    \n",
      "    x = np.linspace(-1.,1.,1000)\n",
      "    rho, u, p = exact_riemann_solution(q_l, q_r, x, t, gamma=gamma)\n",
      "    plot(rho,u,p,x)\n",
      "    \n",
      "interact(plot_exact_riemann_solution,\n",
      "         rho_l=(1.,10.,0.1),\n",
      "         u_l=(-5.,5.,0.1),\n",
      "         p_l=(1.,10.,0.1),\n",
      "         rho_r=(1.,10.,0.1),\n",
      "         u_r=(-5.,5.,0.1),\n",
      "         p_r=(1.,10.,0.1),\n",
      "         t=(0.1,1.,0.1));"
     ],
     "language": "python",
     "metadata": {},
     "outputs": []
    },
    {
     "cell_type": "code",
     "collapsed": false,
     "input": [],
     "language": "python",
     "metadata": {},
     "outputs": []
    }
   ],
   "metadata": {}
  }
 ]
}