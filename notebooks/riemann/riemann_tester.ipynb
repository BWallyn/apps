{
 "metadata": {
  "name": "",
  "signature": "sha256:90e9451ef9566b58b9d4e87e6861573e86bafca4c500db82cc5eb19332d98976"
 },
 "nbformat": 3,
 "nbformat_minor": 0,
 "worksheets": [
  {
   "cells": [
    {
     "cell_type": "markdown",
     "metadata": {},
     "source": [
      "# Riemann solver tester\n"
     ]
    },
    {
     "cell_type": "code",
     "collapsed": false,
     "input": [
      "%matplotlib inline\n",
      "import matplotlib.pyplot as plt\n",
      "import numpy as np\n",
      "from ipywidgets import StaticInteract, RangeWidget\n",
      "from IPython.display import FileLink\n",
      "from clawpack import riemann"
     ],
     "language": "python",
     "metadata": {},
     "outputs": []
    },
    {
     "cell_type": "markdown",
     "metadata": {},
     "source": [
      "The next cell imports a module containing a function that takes a Riemann problem (left state, right state, and approximate solver), and computes the Riemann solution, and functions to plot the solution in various forms"
     ]
    },
    {
     "cell_type": "code",
     "collapsed": false,
     "input": [
      "import riemann_tools\n",
      "reload(riemann_tools)\n",
      "FileLink('riemann_tools.py')"
     ],
     "language": "python",
     "metadata": {},
     "outputs": []
    },
    {
     "cell_type": "markdown",
     "metadata": {},
     "source": [
      "# Acoustics: exact solution\n",
      "We can use this to examine the exact solution of an acoustics Riemann problem:"
     ]
    },
    {
     "cell_type": "code",
     "collapsed": false,
     "input": [
      "solver = riemann.acoustics_1D_py.acoustics_1D\n",
      "num_eqn = riemann.acoustics_1D_py.num_eqn\n",
      "\n",
      "q_l = np.array((1,4))\n",
      "q_r = np.array((3,7))\n",
      "\n",
      "problem_data = {}\n",
      "problem_data['zz'] = 1.0\n",
      "problem_data['cc'] = 1.0\n",
      "\n",
      "states, s, riemann_eval = riemann_tools.riemann_solution(num_eqn,solver,q_l,q_r,problem_data=problem_data)\n",
      "riemann_tools.plot_phase(states)"
     ],
     "language": "python",
     "metadata": {},
     "outputs": []
    },
    {
     "cell_type": "markdown",
     "metadata": {},
     "source": [
      "Plot the solution at one particular time:"
     ]
    },
    {
     "cell_type": "code",
     "collapsed": false,
     "input": [
      "fig = riemann_tools.plot_riemann(states,s,riemann_eval,0.5)"
     ],
     "language": "python",
     "metadata": {},
     "outputs": []
    },
    {
     "cell_type": "markdown",
     "metadata": {},
     "source": [
      "Plot over a range of times with a slider to control t:"
     ]
    },
    {
     "cell_type": "code",
     "collapsed": false,
     "input": [
      "plot_function = riemann_tools.make_plot_function(states,s,riemann_eval)\n",
      "StaticInteract(plot_function, t=RangeWidget(0,.9,.1))"
     ],
     "language": "python",
     "metadata": {},
     "outputs": []
    },
    {
     "cell_type": "markdown",
     "metadata": {},
     "source": [
      "# Euler: approximate solutions\n",
      "We can also easily compare the approximate solutions given by, say, a Roe solver and an HLL solver for the Euler equations."
     ]
    },
    {
     "cell_type": "code",
     "collapsed": false,
     "input": [
      "solver = riemann.euler_1D_py.euler_roe_1D\n",
      "num_eqn = riemann.euler_1D_py.num_eqn\n",
      "\n",
      "q_l = np.array((3.,2.,2.))\n",
      "q_r = np.array((1.,1.,1.5))\n",
      "\n",
      "problem_data = {}\n",
      "problem_data['gamma'] = 1.4\n",
      "problem_data['gamma1'] = 1.4-1.0\n",
      "problem_data['efix'] = False\n",
      "\n",
      "print \"Roe solver solution to Euler equations:\"\n",
      "states, s, roe_eval = riemann_tools.riemann_solution(num_eqn,solver,q_l,q_r,problem_data=problem_data)\n",
      "fig, ax = plt.subplots(1,2,figsize=(10,4))\n",
      "riemann_tools.plot_phase(states,0,1,ax[0])\n",
      "riemann_tools.plot_phase(states,0,2,ax[1])\n",
      "riemann_tools.plot_phase_3d(states)"
     ],
     "language": "python",
     "metadata": {},
     "outputs": []
    },
    {
     "cell_type": "code",
     "collapsed": false,
     "input": [
      "plot_function = riemann_tools.make_plot_function(states,s,roe_eval)\n",
      "StaticInteract(plot_function, t=RangeWidget(0,.9,.1))"
     ],
     "language": "python",
     "metadata": {},
     "outputs": []
    },
    {
     "cell_type": "code",
     "collapsed": false,
     "input": [
      "solver = riemann.euler_1D_py.euler_hll_1D\n",
      "print \"HLL solver solution to Euler equations:\"\n",
      "states_hll, s_hll, hll_eval = riemann_tools.riemann_solution(num_eqn,solver,q_l,q_r,problem_data=problem_data)\n",
      "riemann_tools.plot_phase_3d(states_hll)"
     ],
     "language": "python",
     "metadata": {},
     "outputs": []
    },
    {
     "cell_type": "code",
     "collapsed": false,
     "input": [
      "plot_function = riemann_tools.make_plot_function(states_hll,s_hll, hll_eval)\n",
      "StaticInteract(plot_function, t=RangeWidget(0,.9,.1))"
     ],
     "language": "python",
     "metadata": {},
     "outputs": []
    },
    {
     "cell_type": "markdown",
     "metadata": {},
     "source": [
      "### Compare the two solvers:\n",
      "\n",
      "In the plots below, red is the Roe solution, blue is the HLL solution."
     ]
    },
    {
     "cell_type": "code",
     "collapsed": false,
     "input": [
      "plot_function = riemann_tools.make_plot_function([states_hll,states],[s_hll,s],[hll_eval,roe_eval])\n",
      "StaticInteract(plot_function, t=RangeWidget(0,.9,.1))"
     ],
     "language": "python",
     "metadata": {},
     "outputs": []
    },
    {
     "cell_type": "heading",
     "level": 3,
     "metadata": {},
     "source": [
      "Compare with the exact solution"
     ]
    },
    {
     "cell_type": "code",
     "collapsed": false,
     "input": [
      "import Euler_exact_Riemann_solver\n",
      "reload(Euler_exact_Riemann_solver)\n",
      "ex_states, ex_speeds, reval = Euler_exact_Riemann_solver.exact_riemann_solution(q_l,q_r)\n",
      "FileLink('Euler_exact_Riemann_solver.py')  # Link to examine the exact Riemann solver"
     ],
     "language": "python",
     "metadata": {},
     "outputs": []
    },
    {
     "cell_type": "code",
     "collapsed": false,
     "input": [
      "plot_function = riemann_tools.make_plot_function([ex_states,states_hll,states],\n",
      "                                                 [ex_speeds,s_hll,s],\n",
      "                                                 [reval,hll_eval,roe_eval],\n",
      "                                                 ['Exact','HLL','Roe'])\n",
      "StaticInteract(plot_function, t=RangeWidget(0,.9,.1))"
     ],
     "language": "python",
     "metadata": {},
     "outputs": []
    }
   ],
   "metadata": {}
  }
 ]
}