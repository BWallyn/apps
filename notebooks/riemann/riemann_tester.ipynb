{
 "metadata": {
  "name": ""
 },
 "nbformat": 3,
 "nbformat_minor": 0,
 "worksheets": [
  {
   "cells": [
    {
     "cell_type": "code",
     "collapsed": false,
     "input": [
      "%matplotlib inline\n",
      "import matplotlib.pyplot as plt\n",
      "from clawpack import riemann\n",
      "import numpy as np"
     ],
     "language": "python",
     "metadata": {},
     "outputs": [],
     "prompt_number": null
    },
    {
     "cell_type": "markdown",
     "metadata": {},
     "source": [
      "# Riemann solver tester\n",
      "The next cell sets up a function that takes a Riemann problem (left state, right state, and approximate solver), and computes and prints the Riemann solution, and animates the approximate solution."
     ]
    },
    {
     "cell_type": "code",
     "collapsed": false,
     "input": [
      "from matplotlib import animation\n",
      "from clawpack.visclaw.JSAnimation import IPython_display\n",
      "from IPython.display import display\n",
      "import ipywidgets\n",
      "import sympy\n",
      "from ipywidgets import StaticInteract, RangeWidget, RadioWidget, DropDownWidget\n",
      "\n",
      "\n",
      "sympy.init_printing(use_latex='mathjax')\n",
      "\n",
      "\n",
      "def riemann_solution(num_eqn,solver,q_l,q_r,aux_l=None,aux_r=None,t=0.2,problem_data=None):\n",
      "    if aux_l is None:\n",
      "        aux_l = np.zeros(num_eqn)\n",
      "    if aux_r is None:\n",
      "        aux_r = np.zeros(num_eqn)\n",
      "    \n",
      "    wave, s, amdq, apdq = solver(q_l.reshape((num_eqn,1)),q_r.reshape((num_eqn,1)),\n",
      "                                 aux_l.reshape((num_eqn,1)),aux_r.reshape((num_eqn,1)),problem_data)\n",
      "    states = [q_l]\n",
      "    for i in range(len(s)):\n",
      "        states.append(states[-1] + np.squeeze(wave[:,i,0]))\n",
      "    \n",
      "    print 'States in Riemann solution:'\n",
      "    states_sym = sympy.Matrix(states)\n",
      "    display([states_sym.T[:,k] for k in range(3)])\n",
      "    \n",
      "    print 'Waves (jumps between states):'\n",
      "    wave_sym = sympy.Matrix(wave[:,:,0])\n",
      "    display([wave_sym[:,k] for k in range(2)])\n",
      "    \n",
      "    print \"Speeds: \"\n",
      "    s_sym = sympy.Matrix(s)\n",
      "    display(s_sym.T)\n",
      "    \n",
      "    #s_format = len(s)*\"  %6.3f\"\n",
      "    #print \"Speeds: \" + s_format % tuple(s)\n",
      "    return states, s\n",
      "\n",
      "def plot_phase(states):\n",
      "    if num_eqn == 2:\n",
      "        q0 = np.array([state[0] for state in states])\n",
      "        q1 = np.array([state[1] for state in states])\n",
      "        fig2 = plt.figure()\n",
      "        plt.plot(q0,q1,'o-k')\n",
      "        plt.title('phase plane')\n",
      "        plt.axis('equal')\n",
      "        dq0 = q0.max() - q0.min()\n",
      "        dq1 = q1.max() - q1.min()\n",
      "        plt.text(q0[0] + 0.05*dq0,q1[0] + 0.05*dq1,'q_left')\n",
      "        plt.text(q0[-1] + 0.05*dq0,q1[-1] + 0.05*dq1,'q_right')\n",
      "        plt.axis([q0.min()-0.1*dq0, q0.max()+0.1*dq0, q1.min()-0.1*dq1, q1.max()+0.1*dq1])\n",
      " \n",
      "def plot_riemann(states, s, t):\n",
      "    x = np.linspace(-1.,1.,1000)\n",
      "    \n",
      "    figwidth = 4*(len(states[0])+1)\n",
      "    fig, ax = plt.subplots(1,len(states[0])+1,figsize=(figwidth,4))\n",
      "    tmax = 1.0\n",
      "    xmax = 0.\n",
      "    for i in range(len(s)):\n",
      "        if s[i] != 0:\n",
      "            x1 = tmax/s[i]\n",
      "        else:\n",
      "            x1 = 0.\n",
      "        x1 = tmax * s[i]\n",
      "        ax[0].plot([0,x1],[0,tmax],'r')\n",
      "        xmax = max(xmax,abs(x1))\n",
      "                   \n",
      "    ax[0].set_xlim(-xmax,xmax)\n",
      "    ax[0].plot([-xmax,xmax],[t,t],'k',linewidth=2)\n",
      "    \n",
      "    for i in range(num_eqn):\n",
      "        ax[i+1].set_xlim((-1,1))\n",
      "        qmax = max([state[i] for state in states])\n",
      "        qmin = min([state[i] for state in states])\n",
      "        qdiff = qmax - qmin\n",
      "        ax[i+1].set_xlim(-xmax,xmax)\n",
      "        ax[i+1].set_ylim((qmin-0.1*qdiff,qmax+0.1*qdiff))\n",
      "        ax[i+1].set_title('q[%s] at t = %6.3f' % (i,t))\n",
      "    \n",
      "    q = np.outer(states[0],(x<t*s[0]))\n",
      "\n",
      "    for i in range(len(s)-1):\n",
      "        q = q + np.outer(states[i+1],(x>=t*s[i])*(x<t*s[i+1]))\n",
      "    q = q + np.outer(states[-1],(x>s[-1]*t))\n",
      "\n",
      "    for i in range(num_eqn):\n",
      "        ax[i+1].plot(x,q[i,:])\n",
      "    return fig\n",
      "            \n",
      "            \n",
      "def make_plot_function(states,s):\n",
      "    def plot_function(t):\n",
      "        fig = plot_riemann(states,s,t)\n",
      "        return fig\n",
      "    return plot_function\n"
     ],
     "language": "python",
     "metadata": {},
     "outputs": [],
     "prompt_number": null
    },
    {
     "cell_type": "markdown",
     "metadata": {},
     "source": [
      "# Acoustics: exact solution\n",
      "We can use this to examine the exact solution of an acoustics Riemann problem:"
     ]
    },
    {
     "cell_type": "code",
     "collapsed": false,
     "input": [
      "solver = riemann.acoustics_1D_py.acoustics_1D\n",
      "num_eqn = riemann.acoustics_1D_py.num_eqn\n",
      "\n",
      "q_l = np.array((1,4))\n",
      "q_r = np.array((3,7))\n",
      "\n",
      "problem_data = {}\n",
      "problem_data['zz'] = 1.0\n",
      "problem_data['cc'] = 1.0\n",
      "\n",
      "states, s = riemann_solution(num_eqn,solver,q_l,q_r,problem_data=problem_data)\n",
      "plot_phase(states)"
     ],
     "language": "python",
     "metadata": {},
     "outputs": [],
     "prompt_number": null
    },
    {
     "cell_type": "code",
     "collapsed": false,
     "input": [
      "fig = plot_riemann(states,s,0.1)"
     ],
     "language": "python",
     "metadata": {},
     "outputs": [],
     "prompt_number": null
    },
    {
     "cell_type": "code",
     "collapsed": false,
     "input": [
      "plot_function = make_plot_function(states,s)\n",
      "StaticInteract(plot_function, t=RangeWidget(0,.9,.1))"
     ],
     "language": "python",
     "metadata": {},
     "outputs": [],
     "prompt_number": null
    },
    {
     "cell_type": "markdown",
     "metadata": {},
     "source": [
      "# Euler: approximate solutions\n",
      "We can also easily compare the approximate solutions given by, say, a Roe solver and an HLL solver for the Euler equations."
     ]
    },
    {
     "cell_type": "code",
     "collapsed": false,
     "input": [
      "solver = riemann.euler_1D_py.euler_roe_1D\n",
      "num_eqn = riemann.euler_1D_py.num_eqn\n",
      "\n",
      "q_l = np.array((3.,1.,2.))\n",
      "q_r = np.array((1.,0.,1.5))\n",
      "\n",
      "problem_data = {}\n",
      "problem_data['gamma'] = 1.4\n",
      "problem_data['gamma1'] = 1.4-1.0\n",
      "problem_data['efix'] = False\n",
      "\n",
      "states, s = riemann_solution(num_eqn,solver,q_l,q_r,problem_data=problem_data)"
     ],
     "language": "python",
     "metadata": {},
     "outputs": [],
     "prompt_number": null
    },
    {
     "cell_type": "code",
     "collapsed": false,
     "input": [
      "plot_function = make_plot_function(states,s)\n",
      "StaticInteract(plot_function, t=RangeWidget(0,.9,.1))"
     ],
     "language": "python",
     "metadata": {},
     "outputs": [],
     "prompt_number": null
    },
    {
     "cell_type": "code",
     "collapsed": false,
     "input": [
      "solver = riemann.euler_1D_py.euler_hll_1D\n",
      "states, s = riemann_solution(num_eqn,solver,q_l,q_r,problem_data=problem_data)"
     ],
     "language": "python",
     "metadata": {},
     "outputs": [],
     "prompt_number": null
    },
    {
     "cell_type": "code",
     "collapsed": false,
     "input": [
      "plot_function = make_plot_function(states,s)\n",
      "StaticInteract(plot_function, t=RangeWidget(0,.9,.1))"
     ],
     "language": "python",
     "metadata": {},
     "outputs": [],
     "prompt_number": null
    },
    {
     "cell_type": "code",
     "collapsed": false,
     "input": [],
     "language": "python",
     "metadata": {},
     "outputs": []
    }
   ],
   "metadata": {}
  }
 ]
}