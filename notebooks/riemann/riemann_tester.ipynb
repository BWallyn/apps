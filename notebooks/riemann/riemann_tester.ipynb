{
 "metadata": {
  "name": ""
 },
 "nbformat": 3,
 "nbformat_minor": 0,
 "worksheets": [
  {
   "cells": [
    {
     "cell_type": "markdown",
     "metadata": {},
     "source": [
      "# Riemann solver tester\n"
     ]
    },
    {
     "cell_type": "code",
     "collapsed": false,
     "input": [
      "%matplotlib inline\n",
      "import matplotlib.pyplot as plt\n",
      "from clawpack import riemann\n",
      "import numpy as np"
     ],
     "language": "python",
     "metadata": {},
     "outputs": [],
     "prompt_number": null
    },
    {
     "cell_type": "markdown",
     "metadata": {},
     "source": [
      "The next cell sets up a function that takes a Riemann problem (left state, right state, and approximate solver), and computes the Riemann solution, and functions to plot the solution in various forms"
     ]
    },
    {
     "cell_type": "code",
     "collapsed": false,
     "input": [
      "from matplotlib import animation\n",
      "from clawpack.visclaw.JSAnimation import IPython_display\n",
      "from IPython.display import display\n",
      "import ipywidgets\n",
      "import sympy\n",
      "from ipywidgets import StaticInteract, RangeWidget, RadioWidget, DropDownWidget\n",
      "\n",
      "\n",
      "sympy.init_printing(use_latex='mathjax')\n",
      "\n",
      "\n",
      "def riemann_solution(num_eqn,solver,q_l,q_r,aux_l=None,aux_r=None,t=0.2,problem_data=None):\n",
      "    if aux_l is None:\n",
      "        aux_l = np.zeros(num_eqn)\n",
      "    if aux_r is None:\n",
      "        aux_r = np.zeros(num_eqn)\n",
      "    \n",
      "    wave, s, amdq, apdq = solver(q_l.reshape((num_eqn,1)),q_r.reshape((num_eqn,1)),\n",
      "                                 aux_l.reshape((num_eqn,1)),aux_r.reshape((num_eqn,1)),problem_data)\n",
      "    \n",
      "    wave0 = wave[:,:,0]\n",
      "    num_waves = wave.shape[1]\n",
      "    qlwave = np.vstack((q_l,wave0.T)).T\n",
      "    # Sum to the waves to get the states:\n",
      "    states = np.cumsum(qlwave,1)  \n",
      "    \n",
      "    num_states = num_waves + 1\n",
      "    \n",
      "    print 'States in Riemann solution:'\n",
      "    states_sym = sympy.Matrix(states)\n",
      "    display([states_sym[:,k] for k in range(num_states)])\n",
      "    \n",
      "    print 'Waves (jumps between states):'\n",
      "    wave_sym = sympy.Matrix(wave[:,:,0])\n",
      "    display([wave_sym[:,k] for k in range(num_waves)])\n",
      "    \n",
      "    print \"Speeds: \"\n",
      "    s_sym = sympy.Matrix(s)\n",
      "    display(s_sym.T)\n",
      "    \n",
      "    return states, s\n",
      "\n",
      "def plot_phase(states, i_h=0, i_v=1, ax=None):\n",
      "    \"\"\"\n",
      "    Plot 2d phase space plot.\n",
      "    If num_eqns > 2, can specify which component of q to put on horizontal\n",
      "    and vertical axes via i_h and i_v.\n",
      "    \"\"\"\n",
      "    q0 = states[i_h,:]\n",
      "    q1 = states[i_v,:]\n",
      "    \n",
      "    if ax is None:\n",
      "        fig, ax = plt.subplots()\n",
      "    ax.plot(q0,q1,'o-k')\n",
      "    ax.set_title('phase space: q[%i] vs. q[%i]' % (i_h,i_v))\n",
      "    ax.axis('equal')\n",
      "    dq0 = q0.max() - q0.min()\n",
      "    dq1 = q1.max() - q1.min()\n",
      "    ax.text(q0[0] + 0.05*dq0,q1[0] + 0.05*dq1,'q_left')\n",
      "    ax.text(q0[-1] + 0.05*dq0,q1[-1] + 0.05*dq1,'q_right')\n",
      "    ax.axis([q0.min()-0.1*dq0, q0.max()+0.1*dq0, q1.min()-0.1*dq1, q1.max()+0.1*dq1])\n",
      "    ax.set_xlabel('q[%s]' % i_h)\n",
      "    ax.set_ylabel('q[%s]' % i_v)\n",
      "    \n",
      "def plot_phase_3d(states):\n",
      "    \"\"\"\n",
      "    3d phase space plot\n",
      "    \"\"\"\n",
      "    from mpl_toolkits.mplot3d import Axes3D\n",
      "    fig = plt.figure()\n",
      "    ax = fig.gca(projection='3d')\n",
      "    ax.plot(states[0,:],states[1,:],states[2,:],'ko-')\n",
      "    ax.set_xlabel('q[0]')\n",
      "    ax.set_ylabel('q[1]')\n",
      "    ax.set_zlabel('q[2]')\n",
      "    ax.set_title('phase space')\n",
      "    ax.text(states[0,0]+0.05,states[1,0],states[2,0],'q_left')\n",
      "    ax.text(states[0,-1]+0.05,states[1,-1],states[2,-1],'q_right')\n",
      " \n",
      "def plot_riemann(states, s, t):\n",
      "    \"\"\"\n",
      "    Take an array of states and speeds s and plot the solution at time t.\n",
      "    Plots in the x-t plane and also produces a separate plot for each component of q.\n",
      "    \"\"\"\n",
      "    x = np.linspace(-1.,1.,1000)\n",
      "    \n",
      "    num_eqn,num_states = states.shape\n",
      "    figwidth = 4*(num_eqn+1)\n",
      "    fig, ax = plt.subplots(1,num_eqn+1,figsize=(figwidth,4))\n",
      "    tmax = 1.0\n",
      "    xmax = 0.\n",
      "    for i in range(len(s)):\n",
      "        if s[i] != 0:\n",
      "            x1 = tmax/s[i]\n",
      "        else:\n",
      "            x1 = 0.\n",
      "        x1 = tmax * s[i]\n",
      "        ax[0].plot([0,x1],[0,tmax],'r')\n",
      "        xmax = max(xmax,abs(x1))\n",
      "                   \n",
      "    ax[0].set_xlim(-xmax,xmax)\n",
      "    ax[0].plot([-xmax,xmax],[t,t],'k',linewidth=2)\n",
      "    \n",
      "    for i in range(num_eqn):\n",
      "        ax[i+1].set_xlim((-1,1))\n",
      "        qmax = states[i,:].max()  #max([state[i] for state in states])\n",
      "        qmin = states[i,:].min()  # min([state[i] for state in states])\n",
      "        qdiff = qmax - qmin\n",
      "        ax[i+1].set_xlim(-xmax,xmax)\n",
      "        ax[i+1].set_ylim((qmin-0.1*qdiff,qmax+0.1*qdiff))\n",
      "        ax[i+1].set_title('q[%s] at t = %6.3f' % (i,t))\n",
      "    \n",
      "    q = np.outer(states[:,0],(x<t*s[0]))\n",
      "\n",
      "    for i in range(len(s)-1):\n",
      "        q = q + np.outer(states[:,i+1],(x>=t*s[i])*(x<t*s[i+1]))\n",
      "    q = q + np.outer(states[:,-1],(x>s[-1]*t))\n",
      "\n",
      "    for i in range(num_eqn):\n",
      "        ax[i+1].plot(x,q[i,:])\n",
      "    return fig\n",
      "            \n",
      "            \n",
      "def make_plot_function(states,s):\n",
      "    \"\"\"\n",
      "    Utility function to create a plot_function that takes a single argument t.\n",
      "    This function can then be used in a StaticInteract widget.\n",
      "    \"\"\"\n",
      "    def plot_function(t):\n",
      "        fig = plot_riemann(states,s,t)\n",
      "        return fig\n",
      "    return plot_function\n"
     ],
     "language": "python",
     "metadata": {},
     "outputs": [],
     "prompt_number": null
    },
    {
     "cell_type": "markdown",
     "metadata": {},
     "source": [
      "# Acoustics: exact solution\n",
      "We can use this to examine the exact solution of an acoustics Riemann problem:"
     ]
    },
    {
     "cell_type": "code",
     "collapsed": false,
     "input": [
      "solver = riemann.acoustics_1D_py.acoustics_1D\n",
      "num_eqn = riemann.acoustics_1D_py.num_eqn\n",
      "\n",
      "q_l = np.array((1,4))\n",
      "q_r = np.array((3,7))\n",
      "\n",
      "problem_data = {}\n",
      "problem_data['zz'] = 1.0\n",
      "problem_data['cc'] = 1.0\n",
      "\n",
      "states, s = riemann_solution(num_eqn,solver,q_l,q_r,problem_data=problem_data)\n",
      "plot_phase(states)"
     ],
     "language": "python",
     "metadata": {},
     "outputs": [],
     "prompt_number": null
    },
    {
     "cell_type": "markdown",
     "metadata": {},
     "source": [
      "Plot the solution at one particular time:"
     ]
    },
    {
     "cell_type": "code",
     "collapsed": false,
     "input": [
      "fig = plot_riemann(states,s,0.5)"
     ],
     "language": "python",
     "metadata": {},
     "outputs": [],
     "prompt_number": null
    },
    {
     "cell_type": "markdown",
     "metadata": {},
     "source": [
      "Plot over a range of times with a slider to control t:"
     ]
    },
    {
     "cell_type": "code",
     "collapsed": false,
     "input": [
      "plot_function = make_plot_function(states,s)\n",
      "StaticInteract(plot_function, t=RangeWidget(0,.9,.1))"
     ],
     "language": "python",
     "metadata": {},
     "outputs": [],
     "prompt_number": null
    },
    {
     "cell_type": "markdown",
     "metadata": {},
     "source": [
      "# Euler: approximate solutions\n",
      "We can also easily compare the approximate solutions given by, say, a Roe solver and an HLL solver for the Euler equations."
     ]
    },
    {
     "cell_type": "code",
     "collapsed": false,
     "input": [
      "solver = riemann.euler_1D_py.euler_roe_1D\n",
      "num_eqn = riemann.euler_1D_py.num_eqn\n",
      "\n",
      "q_l = np.array((3.,1.,2.))\n",
      "q_r = np.array((1.,0.,1.5))\n",
      "\n",
      "problem_data = {}\n",
      "problem_data['gamma'] = 1.4\n",
      "problem_data['gamma1'] = 1.4-1.0\n",
      "problem_data['efix'] = False\n",
      "\n",
      "print \"Roe solver solution to Euler equations:\"\n",
      "states, s = riemann_solution(num_eqn,solver,q_l,q_r,problem_data=problem_data)\n",
      "fig, ax = plt.subplots(1,2,figsize=(10,4))\n",
      "plot_phase(states,0,1,ax[0])\n",
      "plot_phase(states,0,2,ax[1])\n",
      "plot_phase_3d(states)"
     ],
     "language": "python",
     "metadata": {},
     "outputs": [],
     "prompt_number": null
    },
    {
     "cell_type": "code",
     "collapsed": false,
     "input": [
      "plot_function = make_plot_function(states,s)\n",
      "StaticInteract(plot_function, t=RangeWidget(0,.9,.1))"
     ],
     "language": "python",
     "metadata": {},
     "outputs": [],
     "prompt_number": null
    },
    {
     "cell_type": "code",
     "collapsed": false,
     "input": [
      "solver = riemann.euler_1D_py.euler_hll_1D\n",
      "print \"HLL solver solution to Euler equations:\"\n",
      "states, s = riemann_solution(num_eqn,solver,q_l,q_r,problem_data=problem_data)\n",
      "plot_phase_3d(states)"
     ],
     "language": "python",
     "metadata": {},
     "outputs": [],
     "prompt_number": null
    },
    {
     "cell_type": "code",
     "collapsed": false,
     "input": [
      "plot_function = make_plot_function(states,s)\n",
      "StaticInteract(plot_function, t=RangeWidget(0,.9,.1))"
     ],
     "language": "python",
     "metadata": {},
     "outputs": [],
     "prompt_number": null
    },
    {
     "cell_type": "code",
     "collapsed": false,
     "input": [],
     "language": "python",
     "metadata": {},
     "outputs": []
    }
   ],
   "metadata": {}
  }
 ]
}