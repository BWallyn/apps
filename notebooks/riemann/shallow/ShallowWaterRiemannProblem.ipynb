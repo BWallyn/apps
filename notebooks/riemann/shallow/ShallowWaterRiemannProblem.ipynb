{
 "metadata": {
  "name": "ShallowWaterRiemannProblem"
 },
 "nbformat": 3,
 "nbformat_minor": 0,
 "worksheets": [
  {
   "cells": [
    {
     "cell_type": "code",
     "collapsed": false,
     "input": [
      "%pylab inline"
     ],
     "language": "python",
     "metadata": {},
     "outputs": []
    },
    {
     "cell_type": "code",
     "collapsed": false,
     "input": [
      "import os\n",
      "CLAW = os.environ['CLAW'] \n",
      "print CLAW"
     ],
     "language": "python",
     "metadata": {},
     "outputs": []
    },
    {
     "cell_type": "code",
     "collapsed": false,
     "input": [
      "example_dir = '/Users/rjl/Dropbox/myclaw/notebooks/dambreak'\n",
      "os.chdir(example_dir)\n",
      "print os.getcwd()"
     ],
     "language": "python",
     "metadata": {},
     "outputs": []
    },
    {
     "cell_type": "code",
     "collapsed": false,
     "input": [
      "import setrun\n",
      "\n",
      "rundata = setrun.setrun()\n",
      "outdir = '_output'"
     ],
     "language": "python",
     "metadata": {},
     "outputs": []
    },
    {
     "cell_type": "code",
     "collapsed": false,
     "input": [
      "import glob\n",
      "from matplotlib import image\n",
      "from clawpack.visclaw.JSAnimation import IPython_display\n",
      "from matplotlib import animation\n",
      "\n",
      "def init():\n",
      "    im.set_data(image.imread(filenames[0]))\n",
      "    return im,\n",
      "\n",
      "def animate(i):\n",
      "    image_i=image.imread(filenames[i])\n",
      "    im.set_data(image_i)\n",
      "    return im,\n"
     ],
     "language": "python",
     "metadata": {},
     "outputs": []
    },
    {
     "cell_type": "code",
     "collapsed": false,
     "input": [
      "rundata.probdata.hl = 3.0\n",
      "rundata.probdata.ul = 1.0\n",
      "rundata.probdata.hr = 1.0\n",
      "rundata.probdata.ur = 0.0\n",
      "rundata.write()"
     ],
     "language": "python",
     "metadata": {},
     "outputs": []
    },
    {
     "cell_type": "code",
     "collapsed": false,
     "input": [
      "%%system\n",
      "bash run_and_make_plots.sh"
     ],
     "language": "python",
     "metadata": {},
     "outputs": []
    },
    {
     "cell_type": "code",
     "collapsed": false,
     "input": [
      "figno = 1\n",
      "fname = '_plots/*fig' + str(figno) + '.png'\n",
      "filenames=sorted(glob.glob(fname))\n",
      "\n",
      "fig = plt.figure()\n",
      "im = plt.imshow(image.imread(filenames[0]))\n",
      "animation.FuncAnimation(fig, animate, init_func=init,\n",
      "                              frames=len(filenames), interval=20, blit=True)"
     ],
     "language": "python",
     "metadata": {},
     "outputs": []
    },
    {
     "cell_type": "code",
     "collapsed": false,
     "input": [],
     "language": "python",
     "metadata": {},
     "outputs": []
    }
   ],
   "metadata": {}
  }
 ]
}