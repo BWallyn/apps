{
 "metadata": {
  "name": ""
 },
 "nbformat": 3,
 "nbformat_minor": 0,
 "worksheets": [
  {
   "cells": [
    {
     "cell_type": "markdown",
     "metadata": {},
     "source": [
      "# Solution of some Riemann problems for the shallow water equations\n",
      "\n",
      "This notebook will appear in the Clawpack apps repository once it is further cleaned up.\n",
      "\n",
      "See <http://clawpack.github.io/doc/apps.html> and <http://clawpack.github.io/doc/notebooks.html> for other notebooks."
     ]
    },
    {
     "cell_type": "code",
     "collapsed": false,
     "input": [
      "%pylab inline"
     ],
     "language": "python",
     "metadata": {},
     "outputs": []
    },
    {
     "cell_type": "markdown",
     "metadata": {},
     "source": [
      "Set CLAW as environment variable before starting notebook, or specify as second argument below:"
     ]
    },
    {
     "cell_type": "code",
     "collapsed": false,
     "input": [
      "import os, sys\n",
      "CLAW = os.environ.get('CLAW','/Users/rjl/git/clawpack')  \n",
      "print CLAW\n",
      "sys.path.append(CLAW)  # add to path so clawpack modules can be found\n",
      "os.environ['CLAW'] = CLAW\n",
      "os.environ['PYTHONPATH'] = CLAW  # so Fortran Makefiles work"
     ],
     "language": "python",
     "metadata": {},
     "outputs": []
    },
    {
     "cell_type": "code",
     "collapsed": false,
     "input": [
      "example_dir = CLAW + '/apps/notebooks/riemann/shallow'\n",
      "os.chdir(example_dir)\n",
      "print os.getcwd()"
     ],
     "language": "python",
     "metadata": {},
     "outputs": []
    },
    {
     "cell_type": "code",
     "collapsed": false,
     "input": [
      "import setrun\n",
      "rundata = setrun.setrun()\n",
      "outdir = '_output'"
     ],
     "language": "python",
     "metadata": {},
     "outputs": []
    },
    {
     "cell_type": "code",
     "collapsed": false,
     "input": [
      "import glob\n",
      "from matplotlib import image\n",
      "from clawpack.visclaw.JSAnimation import IPython_display\n",
      "from matplotlib import animation\n",
      "\n",
      "def init():\n",
      "    im.set_data(image.imread(filenames[0]))\n",
      "    return im,\n",
      "\n",
      "def animate(i):\n",
      "    image_i=image.imread(filenames[i])\n",
      "    im.set_data(image_i)\n",
      "    return im,\n"
     ],
     "language": "python",
     "metadata": {},
     "outputs": []
    },
    {
     "cell_type": "heading",
     "level": 2,
     "metadata": {},
     "source": [
      "Set up scripts to plot solution in phase plane $hu$ vs. $h$:"
     ]
    },
    {
     "cell_type": "code",
     "collapsed": false,
     "input": [
      "g = 1.  # gravitational constant used in book\n",
      "def shallow_intcurve(hstar, hustar, wave_family='both'):\n",
      "    ustar = hustar / hstar\n",
      "    h = linspace(0,5,201)\n",
      "    hu1 = h*ustar + 2*h*(sqrt(g*hstar) - sqrt(g*h))\n",
      "    hu2 = h*ustar - 2*h*(sqrt(g*hstar) - sqrt(g*h))\n",
      "    if wave_family in [1,'both']:\n",
      "        plot(h,hu1,'m', label='1-rarefaction')\n",
      "    if wave_family in [2,'both']:\n",
      "        plot(h,hu2,'g', label='2-rarefaction')\n",
      "    plot([hstar],[hustar],'ko',markersize=5)\n",
      "\n",
      "def shallow_locus(hstar, hustar, wave_family='both'):\n",
      "    ustar = hustar / hstar\n",
      "    h = linspace(0,5,201)\n",
      "    alpha = h - hstar\n",
      "    d = sqrt(g*hstar*(1 + alpha/hstar)*(1 + alpha/(2*hstar)))\n",
      "    hu1 = hustar + alpha*(ustar - d)\n",
      "    hu2 = hustar + alpha*(ustar + d)\n",
      "    if wave_family in [1,'both']:\n",
      "        plot(h,hu1,'r', label='1-shock')\n",
      "    if wave_family in [2,'both']:\n",
      "        plot(h,hu2,'b', label='2-shock')\n",
      "    plot([hstar],[hustar],'ko',markersize=5)\n",
      "\n",
      "        \n",
      "def make_axes_and_label(x1=-.5, x2=4.5, y1=-2.5, y2=2.5):\n",
      "    plot([x1,x2],[0,0],'k')\n",
      "    plot([0,0],[y1,y2],'k')\n",
      "    axis([x1,x2,y1,y2])\n",
      "    legend()\n",
      "    xlabel(\"h = depth\",fontsize=15)\n",
      "    ylabel(\"hu = momentum\",fontsize=15)"
     ],
     "language": "python",
     "metadata": {},
     "outputs": []
    },
    {
     "cell_type": "markdown",
     "metadata": {},
     "source": [
      "## Dam break Riemann problem:\n",
      "\n",
      "The initial velocity is zero and the depth is greater to the left of $x=0$ than to the right.  The solution is a shock wave moving to the right and a rarefaction wave moving to the left.  The intermediate fluid velocity is positive."
     ]
    },
    {
     "cell_type": "code",
     "collapsed": false,
     "input": [
      "hl = 3.\n",
      "ul = 0.\n",
      "hr = 1.\n",
      "ur = 0.\n",
      "rundata.probdata.hl = hl\n",
      "rundata.probdata.ul = ul\n",
      "rundata.probdata.hr = hr\n",
      "rundata.probdata.ur = ur\n",
      "rundata.write()"
     ],
     "language": "python",
     "metadata": {},
     "outputs": []
    },
    {
     "cell_type": "code",
     "collapsed": false,
     "input": [
      "%%system\n",
      "bash run_and_make_plots.sh"
     ],
     "language": "python",
     "metadata": {},
     "outputs": []
    },
    {
     "cell_type": "code",
     "collapsed": false,
     "input": [
      "figno = 1\n",
      "fname = '_plots/*fig' + str(figno) + '.png'\n",
      "filenames=sorted(glob.glob(fname))\n",
      "\n",
      "fig = plt.figure()\n",
      "im = plt.imshow(image.imread(filenames[0]))\n",
      "\n",
      "animation.FuncAnimation(fig, animate, init_func=init,\n",
      "                              frames=len(filenames), interval=200, blit=True)"
     ],
     "language": "python",
     "metadata": {},
     "outputs": []
    },
    {
     "cell_type": "markdown",
     "metadata": {},
     "source": [
      "###Phase Plane solution\n",
      "\n",
      "The phase plane solution in this case consists of a 1-rarefaction and a 2-shock, and the intermediate state is where the 1-wave integral curve from $(h_l,h_lu_l)$ intersects the 2-wave Hugoniot locus from $(h_r,h_ru_r)$ "
     ]
    },
    {
     "cell_type": "code",
     "collapsed": false,
     "input": [
      "shallow_intcurve(hl, hl*ul, wave_family=1)\n",
      "shallow_locus(hr, hr*ur, wave_family=2)\n",
      "make_axes_and_label()\n"
     ],
     "language": "python",
     "metadata": {},
     "outputs": []
    },
    {
     "cell_type": "markdown",
     "metadata": {},
     "source": [
      "## Symmetric inflow results in two outgoing shock waves\n",
      "\n",
      "The intermediate fluid velocity is zero, so this also flow models a wall at x=0 with flow towards wall:"
     ]
    },
    {
     "cell_type": "code",
     "collapsed": false,
     "input": [
      "hl = 2.\n",
      "ul = 1.\n",
      "hr = 2.\n",
      "ur = -1.\n",
      "rundata.probdata.hl = hl\n",
      "rundata.probdata.ul = ul\n",
      "rundata.probdata.hr = hr\n",
      "rundata.probdata.ur = ur\n",
      "rundata.write()"
     ],
     "language": "python",
     "metadata": {},
     "outputs": []
    },
    {
     "cell_type": "code",
     "collapsed": false,
     "input": [
      "%%system\n",
      "bash run_and_make_plots.sh"
     ],
     "language": "python",
     "metadata": {},
     "outputs": []
    },
    {
     "cell_type": "code",
     "collapsed": false,
     "input": [
      "fig = plt.figure()\n",
      "im = plt.imshow(image.imread(filenames[0]))\n",
      "\n",
      "animation.FuncAnimation(fig, animate, init_func=init,\n",
      "                              frames=len(filenames), interval=200, blit=True)"
     ],
     "language": "python",
     "metadata": {},
     "outputs": []
    },
    {
     "cell_type": "markdown",
     "metadata": {},
     "source": [
      "###Phase Plane solution\n",
      "\n",
      "The phase plane solution in this case consists of two shock waves and the intermediate state is where the 2-wave Hugoniot locus from $(h_l,h_lu_l)$ intersects the 1-wave Hugoniot locus from $(h_r,h_ru_r)$ "
     ]
    },
    {
     "cell_type": "code",
     "collapsed": false,
     "input": [
      "shallow_locus(hl, hl*ul, wave_family=1)\n",
      "shallow_locus(hr, hr*ur, wave_family=2)\n",
      "make_axes_and_label()\n"
     ],
     "language": "python",
     "metadata": {},
     "outputs": []
    },
    {
     "cell_type": "heading",
     "level": 2,
     "metadata": {},
     "source": [
      "Symmetric outflow giving double rarefaction wave (flow away from wall)"
     ]
    },
    {
     "cell_type": "code",
     "collapsed": false,
     "input": [
      "hl = 2.\n",
      "ul = -1.\n",
      "hr = 2.\n",
      "ur = 1.\n",
      "rundata.probdata.hl = hl\n",
      "rundata.probdata.ul = ul\n",
      "rundata.probdata.hr = hr\n",
      "rundata.probdata.ur = ur\n",
      "rundata.write()"
     ],
     "language": "python",
     "metadata": {},
     "outputs": []
    },
    {
     "cell_type": "code",
     "collapsed": false,
     "input": [
      "%%system\n",
      "bash run_and_make_plots.sh"
     ],
     "language": "python",
     "metadata": {},
     "outputs": []
    },
    {
     "cell_type": "code",
     "collapsed": false,
     "input": [
      "fig = plt.figure()\n",
      "im = plt.imshow(image.imread(filenames[0]))\n",
      "\n",
      "animation.FuncAnimation(fig, animate, init_func=init,\n",
      "                              frames=len(filenames), interval=200, blit=True)"
     ],
     "language": "python",
     "metadata": {},
     "outputs": []
    },
    {
     "cell_type": "markdown",
     "metadata": {},
     "source": [
      "### Phase plane solution:"
     ]
    },
    {
     "cell_type": "code",
     "collapsed": false,
     "input": [
      "shallow_intcurve(hl, hl*ul, wave_family=1)\n",
      "shallow_intcurve(hr, hr*ur, wave_family=2)\n",
      "make_axes_and_label()"
     ],
     "language": "python",
     "metadata": {},
     "outputs": []
    },
    {
     "cell_type": "code",
     "collapsed": false,
     "input": [],
     "language": "python",
     "metadata": {},
     "outputs": []
    }
   ],
   "metadata": {}
  }
 ]
}