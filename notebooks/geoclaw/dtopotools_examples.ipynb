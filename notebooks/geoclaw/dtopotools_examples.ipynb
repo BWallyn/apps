{
 "metadata": {
  "name": "",
  "signature": "sha256:030919dd43a93414703623c1e090203b5c1b2bbbf28412d26fd66371ff988c43"
 },
 "nbformat": 3,
 "nbformat_minor": 0,
 "worksheets": [
  {
   "cells": [
    {
     "cell_type": "markdown",
     "metadata": {},
     "source": [
      "# dtopotools examples\n",
      "\n",
      "This notebook contains some examples of working with the clawpack.geoclaw.dtopotools module."
     ]
    },
    {
     "cell_type": "code",
     "collapsed": false,
     "input": [
      "%pylab inline"
     ],
     "language": "python",
     "metadata": {},
     "outputs": []
    },
    {
     "cell_type": "code",
     "collapsed": false,
     "input": [
      "from clawpack.geoclaw import dtopotools, topotools"
     ],
     "language": "python",
     "metadata": {},
     "outputs": []
    },
    {
     "cell_type": "markdown",
     "metadata": {},
     "source": [
      "## Example 1\n",
      "\n",
      "Read in a csv file where the first line labels the columns and the remaining lines give the parameters for each subfault. This is a model of the 1964 Alaska earthquake using 12 subfaults from the NOAA SIFT database of unit sources.  \n",
      "\n",
      "See <http://nctr.pmel.noaa.gov/propagation-database.html> and\n",
      "[gica2937.pdf](http://www.pmel.noaa.gov/pubs/PDF/gica2937/gica2937.pdf)"
     ]
    },
    {
     "cell_type": "markdown",
     "metadata": {},
     "source": [
      "Here is the raw file:"
     ]
    },
    {
     "cell_type": "code",
     "collapsed": false,
     "input": [
      "subfault_fname = 'data/alaska1964.csv'\n",
      "print open(subfault_fname).read()"
     ],
     "language": "python",
     "metadata": {},
     "outputs": []
    },
    {
     "cell_type": "markdown",
     "metadata": {},
     "source": [
      "Note that the last column has the name of the unit source from the NOAA SIFT database and will be ignored.  The other columns have labels that are expected.  Specify the units used for each and the coordinate system for the (longitude,latitude) and depth when reading the file in:"
     ]
    },
    {
     "cell_type": "code",
     "collapsed": false,
     "input": [
      "units = {\"length\":\"km\", \"width\":\"km\", \"depth\":\"km\", \"slip\":\"m\", \"mu\":\"dyne/cm^2\"}\n",
      "fault = dtopotools.CSVFault()\n",
      "fault.read(subfault_fname, units=units, coordinate_specification=\"noaa sift\")"
     ],
     "language": "python",
     "metadata": {},
     "outputs": []
    },
    {
     "cell_type": "code",
     "collapsed": false,
     "input": [
      "print \"The Moment magnitude is %g\" % fault.Mw()\n",
      "print \"assuming the rigidity mu of all subfaults is the default value %g %s\"\\\n",
      "      % (fault.subfaults[0].mu, units['mu'])"
     ],
     "language": "python",
     "metadata": {},
     "outputs": []
    },
    {
     "cell_type": "markdown",
     "metadata": {},
     "source": [
      "Plot the subfault geometry with a vector showing the rake (direction of slip):"
     ]
    },
    {
     "cell_type": "code",
     "collapsed": false,
     "input": [
      "fault.plot_subfaults(plot_rake=True)"
     ],
     "language": "python",
     "metadata": {},
     "outputs": []
    },
    {
     "cell_type": "markdown",
     "metadata": {},
     "source": [
      "Plot again showing the magnitude of slip on each subfault:"
     ]
    },
    {
     "cell_type": "code",
     "collapsed": false,
     "input": [
      "fault.plot_subfaults(slip_color=True)"
     ],
     "language": "python",
     "metadata": {},
     "outputs": []
    },
    {
     "cell_type": "markdown",
     "metadata": {},
     "source": [
      "Plot the coastline by downloading a topo file and plotting the zero contour.  (Note this file is entire Pacific at 4 minute resolution, need smaller file.)"
     ]
    },
    {
     "cell_type": "code",
     "collapsed": false,
     "input": [
      "url = 'http://www.clawpack.org/geoclaw/topo/etopo/etopo4min120E72W40S60N.asc'\n",
      "local_fname = 'data/etopo4min120E72W40S60N.asc'\n",
      "topotools.fetch_topo_url(url,local_fname,force=True)"
     ],
     "language": "python",
     "metadata": {},
     "outputs": []
    },
    {
     "cell_type": "code",
     "collapsed": false,
     "input": [
      "topo_file = 'data/etopo4min120E72W40S60N.asc'\n",
      "topo_data = topotools.Topography(topo_file, topo_type=3)\n",
      "xtopo,ytopo,ztopo = topo_data.X, topo_data.Y, topo_data.Z\n",
      "fault.plot_subfaults()\n",
      "contour(xtopo,ytopo,ztopo,[0],colors='g')\n",
      "axis([170,240,40,60])\n",
      "gca().set_aspect(1./cos(55*pi/180.))"
     ],
     "language": "python",
     "metadata": {},
     "outputs": []
    },
    {
     "cell_type": "markdown",
     "metadata": {},
     "source": [
      "Generate a dtopo grid by applying the Okada model to each subfault.  First we need to specify the region over which the seafloor deformation should be specified and the resolution of the grid:"
     ]
    },
    {
     "cell_type": "code",
     "collapsed": false,
     "input": [
      "xlower = 203.5\n",
      "xupper = 214.  # approximate - adjusted below\n",
      "ylower = 54.5\n",
      "yupper = 60.  # approximate - adjusted below\n",
      "\n",
      "# dtopo parameters:\n",
      "points_per_degree = 60  # 1 minute resolution\n",
      "dx = 1./points_per_degree\n",
      "mx = int((xupper - xlower)/dx + 1)\n",
      "xupper = xlower + (mx-1)*dx\n",
      "my = int((yupper - ylower)/dx + 1)\n",
      "yupper = ylower + (my-1)*dx\n",
      "\n",
      "x = linspace(xlower,xupper,mx)\n",
      "y = linspace(ylower,yupper,my)"
     ],
     "language": "python",
     "metadata": {},
     "outputs": []
    },
    {
     "cell_type": "markdown",
     "metadata": {},
     "source": [
      "Now apply Okada to create the static deformation at a single time $t = 1$ second:"
     ]
    },
    {
     "cell_type": "code",
     "collapsed": false,
     "input": [
      "dtopo = fault.create_dtopography(x,y,times=[1.], verbose=True)"
     ],
     "language": "python",
     "metadata": {},
     "outputs": []
    },
    {
     "cell_type": "code",
     "collapsed": false,
     "input": [
      "dtopo.plot_dz_colors(t=1)"
     ],
     "language": "python",
     "metadata": {},
     "outputs": []
    },
    {
     "cell_type": "markdown",
     "metadata": {},
     "source": [
      "Create a dtopo file that can be used with GeoClaw:"
     ]
    },
    {
     "cell_type": "code",
     "collapsed": false,
     "input": [
      "dtopo_fname = 'data/alaska1964.tt3'\n",
      "dtopo.write(dtopo_fname, dtopo_type=3)\n",
      "print \"Maximum dz = %g\" % dtopo.dz_list[-1].max()"
     ],
     "language": "python",
     "metadata": {},
     "outputs": []
    },
    {
     "cell_type": "markdown",
     "metadata": {},
     "source": [
      "## Read in an existing dtopo file:\n",
      "\n",
      "In this case the file we just created..."
     ]
    },
    {
     "cell_type": "code",
     "collapsed": false,
     "input": [
      "dtopo2 = dtopotools.DTopography()\n",
      "dtopo2.read(dtopo_fname, dtopo_type=3)\n",
      "\n",
      "# Check that this data looks right:\n",
      "assert len(dtopo2.x) == 631,  \"*** length of x is wrong\"\n",
      "assert len(dtopo2.y) == 331,  \"*** length of y is wrong\"\n",
      "dz_max = dtopo2.dz_list[-1].max()\n",
      "assert abs(dz_max - 15.368266081250006) < 1e-5,  \"*** dz_max is wrong: %g\" % dz_max\n",
      "print \"Looks ok\""
     ],
     "language": "python",
     "metadata": {},
     "outputs": []
    },
    {
     "cell_type": "markdown",
     "metadata": {},
     "source": [
      "## Time-dependent dtopo \n",
      "\n",
      "This is synthetic data -- the same set of faults as before but with rupture occuring from south to north."
     ]
    },
    {
     "cell_type": "code",
     "collapsed": false,
     "input": [
      "subfault_fname = 'data/timedep.csv'\n",
      "print open(subfault_fname).read()"
     ],
     "language": "python",
     "metadata": {},
     "outputs": []
    },
    {
     "cell_type": "code",
     "collapsed": false,
     "input": [
      "units = {\"length\":\"km\", \"width\":\"km\", \"depth\":\"km\", \"slip\":\"m\", \"mu\":\"dyne/cm^2\"}\n",
      "\n",
      "fault = dtopotools.CSVFault()\n",
      "fault.read(subfault_fname, units=units, coordinate_specification=\"noaa sift\")\n",
      "fault.rupture_type = 'dynamic'\n",
      "\n",
      "xlower = 203.5\n",
      "xupper = 214.\n",
      "ylower = 54.5\n",
      "yupper = 60.\n",
      "\n",
      "# dtopo parameters:\n",
      "points_per_degree = 60   # 1 minute resolution\n",
      "mx = int((xupper - xlower)*points_per_degree + 1)\n",
      "my = int((yupper - ylower)*points_per_degree + 1)\n",
      "x = linspace(xlower,xupper,mx)\n",
      "y = linspace(ylower,yupper,my)\n",
      "times = linspace(0,13,6)\n",
      "dtopo = fault.create_dtopography(x,y,times=times)\n",
      "\n",
      "print \"Created list of %s dz deformations\" % len(dtopo.dz_list)"
     ],
     "language": "python",
     "metadata": {},
     "outputs": []
    },
    {
     "cell_type": "code",
     "collapsed": false,
     "input": [
      "anim = dtopo.animate_dz_colors(style='notebook')\n",
      "anim"
     ],
     "language": "python",
     "metadata": {},
     "outputs": []
    }
   ],
   "metadata": {}
  }
 ]
}