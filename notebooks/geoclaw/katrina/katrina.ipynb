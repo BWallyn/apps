{
 "cells": [
  {
   "cell_type": "markdown",
   "metadata": {},
   "source": [
    "<table>\n",
    " <tr align=left><td><img align=left src=\"https://i.creativecommons.org/l/by/4.0/88x31.png\">\n",
    " <td>Text provided under a Creative Commons Attribution license, CC-BY. All code is made available under the FSF-approved MIT license. (c) Kyle T. Mandli</td>\n",
    "</table>"
   ]
  },
  {
   "cell_type": "code",
   "execution_count": 1,
   "metadata": {
    "collapsed": true
   },
   "outputs": [],
   "source": [
    "%matplotlib inline\n",
    "import clawpack.clawutil.nbtools as nbtools\n",
    "import clawpack.visclaw.JSAnimation.JSAnimation_frametools as J\n",
    "from IPython.display import Image"
   ]
  },
  {
   "cell_type": "markdown",
   "metadata": {},
   "source": [
    "# Storm Surge Tutorial - Katrina\n",
    "\n",
    "This notebook is intended as a tutorial for setting up a storm surge simulation using GeoClaw.  Here we will walk through the setup of some key parameters that you may have to set to setup a new storm."
   ]
  },
  {
   "cell_type": "markdown",
   "metadata": {},
   "source": [
    "## Setup\n",
    "\n",
    "In this tutorial we are going to focus on setting up a simulation of Hurricane Katrina that hit Louisiana and Mississippi coastline most famously doing significant damage to New Orleans in 2005.  The input parameters that we will go over for this storm are:\n",
    "\n",
    "1. Topography - input of relevant topography and bathymetry for the storm,\n",
    "1. Refinement settings - how to set the refinement levels, ratios and criteria for the simulation,\n",
    "1. Observations (tide-gauges) - how to specify numerical observational point via numerical tide gauges,\n",
    "1. Specification of the storm - how to specify the storm itself, and\n",
    "1. Other parameters - other parameters such as variable friction that might be useful to set."
   ]
  },
  {
   "cell_type": "markdown",
   "metadata": {},
   "source": []
  },
  {
   "cell_type": "code",
   "execution_count": null,
   "metadata": {
    "collapsed": true
   },
   "outputs": [],
   "source": [
    "from setrun_original import setrun\n",
    "rundata = setrun()\n",
    "rundata.write()\n",
    "nbtools.make_exe(new=True,verbose=False)"
   ]
  },
  {
   "cell_type": "markdown",
   "metadata": {},
   "source": [
    "### Topography/Bathymetry\n",
    "\n",
    "Topography is an essential input to any storm surge or other GeoClaw simulation.  There are multiple places to find topography, most notably the **INPUT SUGGESTION**.  One thing to keep in mind however is that the accuracy of any simulation is highly dependent on the resolution of the topography used, especially near the coast.  In GeoClaw we need topography to cover the entire domain but you can provide multiple, overlapping topography files that can cover different parts of the domain.  This is useful when you need to cover a large domain but only are concerned with the region surrounding the landfall region.  In the case of GeoClaw finer topography does incur a computational cost so there is an advantage to only providing fine topography where it is needed.\n",
    "\n",
    "For our purposes we need topography that will cover the Gulf of Mexico, the Caribbean, and out to the Atlantic Ocean.  In this case we have pre-fetched some data for you that covers the domain specified **MENTION DOMAIN** along with the region surrounding New Orleans.\n",
    "\n",
    "Some general things to keep in mind when providing topography:\n",
    " - Topography can overlap and you can also specify at which level each topography file is used\n",
    " - Topography can have multiple formats including ASCII and NetCDF formats"
   ]
  },
  {
   "cell_type": "markdown",
   "metadata": {},
   "source": [
    "### Refinement\n",
    "\n",
    "Refinement specification can take multiple forms:\n",
    "\n",
    "1. Physical criteria based on wave height (difference from the specified sea-level) and water speed (magnitude of the velocity).\n",
    "1. Regions can be specified where you want to force/restrict refinement between two levels.  Note there are multiple ways to specify regions that compound,\n",
    "1. "
   ]
  },
  {
   "cell_type": "markdown",
   "metadata": {},
   "source": [
    "### Observations/Tide-Gauges\n",
    "\n",
    "Comparing to observations is critical to any kind of validation of the simulations being performed.  In GeoClaw we can specify arbitrary points in the domain where we want to monitor the depth, momentum, and sea-surface.  The most useful places to specify these parameters are at real-world observation points.  \n",
    "\n",
    "1. Where to fetch useful data\n",
    "1. Detiding this data\n",
    "1. Plotting the data vs. the output data"
   ]
  },
  {
   "cell_type": "markdown",
   "metadata": {},
   "source": [
    "### Specifying the Storm\n",
    "\n",
    "Specification of the storm is of course critical to any simulation.  In GeoClaw the storm is specified by a time point and a number of storm parameters such as maximum wind speed and minimum pressure that then reconstructs a parameterized version of the storm.  From this the simulation knows what the wind and pressure field looks like at arbitrary times and spatial points.  Currently HURDAT is the only supported format however there are currently PRs to incorporate the new HURDAT2 format, the JMA format, the IMD format, and easily incorporate other similar formats as well as other parameterized hurricanes beyond the Holland model."
   ]
  },
  {
   "cell_type": "markdown",
   "metadata": {},
   "source": [
    "### Other parameters\n",
    "\n",
    "Variable friction can be important to accurately simulating overland flooding in a storm surge event.  GeoClaw currently includes partial support for variable spatial friction by specifying regions and iso-baths.  For instance in the simulation of Katrina we lessen the friction coefficient for the LaTex shelf between sea-level and 200 meters in order to represent the smoother LaTeX shelf."
   ]
  },
  {
   "cell_type": "markdown",
   "metadata": {},
   "source": [
    "## Analysis and Plotting"
   ]
  },
  {
   "cell_type": "markdown",
   "metadata": {},
   "source": [
    "## Experiments\n",
    "\n",
    "1. Refinement changes\n",
    "1. Gauge specification - getting gauge data\n",
    "1. Better bathymetry\n",
    "1. Friction regions"
   ]
  }
 ],
 "metadata": {
  "kernelspec": {
   "display_name": "Python 2",
   "language": "python",
   "name": "python2"
  },
  "language_info": {
   "codemirror_mode": {
    "name": "ipython",
    "version": 2
   },
   "file_extension": ".py",
   "mimetype": "text/x-python",
   "name": "python",
   "nbconvert_exporter": "python",
   "pygments_lexer": "ipython2",
   "version": "2.7.13"
  }
 },
 "nbformat": 4,
 "nbformat_minor": 1
}
