{
 "metadata": {
  "name": "",
  "signature": "sha256:e11870cb5187d6e8cabe83292283815103abe3bc566487cf27c496c8c819490c"
 },
 "nbformat": 3,
 "nbformat_minor": 0,
 "worksheets": [
  {
   "cells": [
    {
     "cell_type": "code",
     "collapsed": false,
     "input": [
      "%pylab inline"
     ],
     "language": "python",
     "metadata": {},
     "outputs": []
    },
    {
     "cell_type": "code",
     "collapsed": false,
     "input": [
      "import os\n",
      "from IPython.display import FileLink\n",
      "from clawpack.geoclaw import topotools\n",
      "from clawpack.geoclaw import most2geoclaw\n",
      "\n",
      "CLAW = os.environ['CLAW'] \n",
      "datadir = os.path.join(CLAW,'geoclaw','scratch') # directory for some sample data files"
     ],
     "language": "python",
     "metadata": {},
     "outputs": []
    },
    {
     "cell_type": "code",
     "collapsed": false,
     "input": [
      "print os.getcwd()"
     ],
     "language": "python",
     "metadata": {},
     "outputs": []
    },
    {
     "cell_type": "code",
     "collapsed": false,
     "input": [
      "%%bash\n",
      "export FFLAGS=\"-fopenmp\"\n",
      "make topo &> all.txt \n",
      "make .plots >> all.txt\n"
     ],
     "language": "python",
     "metadata": {},
     "outputs": []
    },
    {
     "cell_type": "code",
     "collapsed": false,
     "input": [
      "FileLink('all.txt')"
     ],
     "language": "python",
     "metadata": {},
     "outputs": []
    },
    {
     "cell_type": "code",
     "collapsed": false,
     "input": [
      "import clawpack.visclaw.JSAnimation.JSAnimation_frametools as J\n",
      "plotdir = '_plots'\n",
      "anim = J.make_anim(plotdir, figsize=(6,4))\n",
      "anim"
     ],
     "language": "python",
     "metadata": {},
     "outputs": []
    },
    {
     "cell_type": "code",
     "collapsed": false,
     "input": [
      "# Determine topo file:\n",
      "import setrun\n",
      "rundata = setrun.setrun()\n",
      "topofile = rundata.topo_data.topofiles[0][5]\n",
      "print \"topofile = \", topofile\n",
      "topo_path = os.path.join(datadir, topofile)\n",
      "topo = topotools.Topography()\n",
      "topo.read(topo_path, topo_type=2)\n",
      "print \"The topo array is %i by %i\" % (topo.x.shape[0], topo.y.shape[0])\n",
      "print \"The extent of the data in longitude: %s\" % topo.extent[0:2]\n",
      "print \"The extent of the data in latitude:  %s\" % topo.extent[2:4]"
     ],
     "language": "python",
     "metadata": {},
     "outputs": []
    },
    {
     "cell_type": "code",
     "collapsed": false,
     "input": [
      "topo.plot()"
     ],
     "language": "python",
     "metadata": {},
     "outputs": []
    },
    {
     "cell_type": "code",
     "collapsed": false,
     "input": [
      "regions = rundata.regiondata.regions\n",
      "print \"Regions specified for AMR: \"\n",
      "print \"[minlevel, maxlevel,t1,t2,x1,x2,y1,y2]\"\n",
      "for r in regions:\n",
      "    print r"
     ],
     "language": "python",
     "metadata": {},
     "outputs": []
    },
    {
     "cell_type": "code",
     "collapsed": false,
     "input": [
      "# Change the regions:\n",
      "regions = rundata.regiondata.regions = []\n",
      "regions.append([1, 1, 0., 1e9, -180, 180, -90, 90])  # global\n",
      "regions.append([3, 3, 0., 100, -85, -72, -38, -25])  # earthquake region\n",
      "regions.append([3, 3, 0., 1e9, -80, -70, -25, -15])  # Peru shelf region\n",
      "print rundata.regiondata.regions"
     ],
     "language": "python",
     "metadata": {},
     "outputs": []
    },
    {
     "cell_type": "code",
     "collapsed": false,
     "input": [
      "rundata.write()"
     ],
     "language": "python",
     "metadata": {},
     "outputs": []
    },
    {
     "cell_type": "code",
     "collapsed": false,
     "input": [
      "from clawpack.clawutil.runclaw import runclaw\n",
      "outdir = '_output2'\n",
      "runclaw(xclawcmd='xgeoclaw', outdir=outdir, overwrite=True, restart=False, rundir='.')"
     ],
     "language": "python",
     "metadata": {},
     "outputs": []
    },
    {
     "cell_type": "code",
     "collapsed": false,
     "input": [
      "if 0:\n",
      "    from clawpack.visclaw import plotclaw\n",
      "    reload(plotclaw)\n",
      "    plotdir = '_plots2'\n",
      "    x = plotclaw.plotclaw(outdir=outdir, plotdir=plotdir, setplot = 'setplot.py',format='ascii')"
     ],
     "language": "python",
     "metadata": {},
     "outputs": []
    },
    {
     "cell_type": "code",
     "collapsed": false,
     "input": [
      "%%bash\n",
      "make plots OUTDIR='_output2' PLOTDIR='_plots2' >> plot_output.txt"
     ],
     "language": "python",
     "metadata": {},
     "outputs": []
    },
    {
     "cell_type": "code",
     "collapsed": false,
     "input": [
      "plotdir = '_plots2'\n",
      "anim = J.make_anim(plotdir, figsize=(6,4))\n",
      "anim"
     ],
     "language": "python",
     "metadata": {},
     "outputs": []
    }
   ],
   "metadata": {}
  }
 ]
}