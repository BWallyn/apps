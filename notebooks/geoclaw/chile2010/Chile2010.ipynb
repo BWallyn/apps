{
 "cells": [
  {
   "cell_type": "markdown",
   "metadata": {},
   "source": [
    "# Chile2010 notebook example\n",
    "\n",
    "This has been improved following https://github.com/clawpack/geoclaw_tutorial_csdms2016.\n",
    "\n",
    "Remove this notebook in favor of chile2010a.ipynb and chile2010b.ipynb."
   ]
  },
  {
   "cell_type": "code",
   "execution_count": null,
   "metadata": {
    "collapsed": false
   },
   "outputs": [],
   "source": [
    "%pylab inline"
   ]
  },
  {
   "cell_type": "code",
   "execution_count": null,
   "metadata": {
    "collapsed": false
   },
   "outputs": [],
   "source": [
    "import os\n",
    "from IPython.display import FileLink\n",
    "from clawpack.geoclaw import topotools\n",
    "from clawpack.geoclaw import most2geoclaw\n",
    "\n",
    "CLAW = os.environ['CLAW'] \n",
    "datadir = os.path.join(CLAW,'geoclaw','scratch') # directory for some sample data files"
   ]
  },
  {
   "cell_type": "code",
   "execution_count": null,
   "metadata": {
    "collapsed": false
   },
   "outputs": [],
   "source": [
    "print os.getcwd()"
   ]
  },
  {
   "cell_type": "code",
   "execution_count": null,
   "metadata": {
    "collapsed": false
   },
   "outputs": [],
   "source": [
    "%%bash\n",
    "export FFLAGS=\"-fopenmp\"\n",
    "make topo &> all.txt \n",
    "make .plots >> all.txt\n"
   ]
  },
  {
   "cell_type": "code",
   "execution_count": null,
   "metadata": {
    "collapsed": false
   },
   "outputs": [],
   "source": [
    "FileLink('all.txt')"
   ]
  },
  {
   "cell_type": "code",
   "execution_count": null,
   "metadata": {
    "collapsed": false
   },
   "outputs": [],
   "source": [
    "from clawpack.clawutil import nbtools"
   ]
  },
  {
   "cell_type": "code",
   "execution_count": null,
   "metadata": {
    "collapsed": false
   },
   "outputs": [],
   "source": [
    "nbtools.make_exe(new=True)  # new=True ==> force recompilation of all code"
   ]
  },
  {
   "cell_type": "code",
   "execution_count": null,
   "metadata": {
    "collapsed": false
   },
   "outputs": [],
   "source": [
    "nbtools.make_data(verbose=False)"
   ]
  },
  {
   "cell_type": "code",
   "execution_count": null,
   "metadata": {
    "collapsed": false
   },
   "outputs": [],
   "source": [
    "%%bash\n",
    "make topo  # download topo and create dtopo file if necessary"
   ]
  },
  {
   "cell_type": "code",
   "execution_count": null,
   "metadata": {
    "collapsed": false
   },
   "outputs": [],
   "source": [
    "outdir,plotdir = nbtools.make_output_and_plots(label='1')"
   ]
  },
  {
   "cell_type": "code",
   "execution_count": null,
   "metadata": {
    "collapsed": false
   },
   "outputs": [],
   "source": [
    "import clawpack.visclaw.JSAnimation.JSAnimation_frametools as J\n",
    "plotdir = '_plots_1'\n",
    "anim = J.make_anim(plotdir, figsize=(6,4))\n",
    "anim"
   ]
  },
  {
   "cell_type": "code",
   "execution_count": null,
   "metadata": {
    "collapsed": false
   },
   "outputs": [],
   "source": [
    "# Determine topo file:\n",
    "import setrun\n",
    "rundata = setrun.setrun()\n",
    "topofile = rundata.topo_data.topofiles[0][5]\n",
    "print \"topofile = \", topofile\n",
    "topo_path = os.path.join(datadir, topofile)\n",
    "topo = topotools.Topography()\n",
    "topo.read(topo_path, topo_type=2)\n",
    "print \"The topo array is %i by %i\" % (topo.x.shape[0], topo.y.shape[0])\n",
    "print \"The extent of the data in longitude: %s\" % topo.extent[0:2]\n",
    "print \"The extent of the data in latitude:  %s\" % topo.extent[2:4]"
   ]
  },
  {
   "cell_type": "code",
   "execution_count": null,
   "metadata": {
    "collapsed": false
   },
   "outputs": [],
   "source": [
    "topo.plot()"
   ]
  },
  {
   "cell_type": "code",
   "execution_count": null,
   "metadata": {
    "collapsed": false
   },
   "outputs": [],
   "source": [
    "regions = rundata.regiondata.regions\n",
    "print \"Regions specified for AMR: \"\n",
    "print \"[minlevel, maxlevel,t1,t2,x1,x2,y1,y2]\"\n",
    "for r in regions:\n",
    "    print r"
   ]
  },
  {
   "cell_type": "code",
   "execution_count": null,
   "metadata": {
    "collapsed": false
   },
   "outputs": [],
   "source": [
    "# Change the regions:\n",
    "regions = rundata.regiondata.regions = []\n",
    "regions.append([1, 1, 0., 1e9, -180, 180, -90, 90])  # global\n",
    "regions.append([3, 3, 0., 100, -85, -72, -38, -25])  # earthquake region\n",
    "regions.append([3, 3, 0., 1e9, -80, -70, -25, -15])  # Peru shelf region\n",
    "for r in regions:\n",
    "    print r"
   ]
  },
  {
   "cell_type": "code",
   "execution_count": null,
   "metadata": {
    "collapsed": false
   },
   "outputs": [],
   "source": [
    "rundata.write()\n",
    "outdir, plotdir = nbtools.make_output_and_plots(label='2')"
   ]
  },
  {
   "cell_type": "code",
   "execution_count": null,
   "metadata": {
    "collapsed": false
   },
   "outputs": [],
   "source": [
    "plotdir = '_plots_2'\n",
    "anim = J.make_anim(plotdir, figsize=(6,4))\n",
    "anim"
   ]
  },
  {
   "cell_type": "code",
   "execution_count": null,
   "metadata": {
    "collapsed": false
   },
   "outputs": [],
   "source": []
  }
 ],
 "metadata": {
  "kernelspec": {
   "display_name": "Python 2",
   "language": "python",
   "name": "python2"
  },
  "language_info": {
   "codemirror_mode": {
    "name": "ipython",
    "version": 2
   },
   "file_extension": ".py",
   "mimetype": "text/x-python",
   "name": "python",
   "nbconvert_exporter": "python",
   "pygments_lexer": "ipython2",
   "version": "2.7.12"
  }
 },
 "nbformat": 4,
 "nbformat_minor": 0
}
