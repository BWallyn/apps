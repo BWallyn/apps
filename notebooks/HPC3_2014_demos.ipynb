{
 "metadata": {
  "name": ""
 },
 "nbformat": 3,
 "nbformat_minor": 0,
 "worksheets": [
  {
   "cells": [
    {
     "cell_type": "markdown",
     "metadata": {},
     "source": [
      "# Notebook demos for [HPC]$^3$ Workshop at KAUST, 2014\n",
      "\n",
      "## Contributors\n",
      "\n",
      " - [Randy LeVeque](https://github.com/rjleveque)\n",
      " - [David Ketcheson](https://github.com/ketch)\n",
      " - [Mauricio del Razo](https://github.com/maojrs)\n",
      " \n",
      " - [Jake Vanderplas](https://github.com/jakevdp) contributed JSAnimation (included in VisClaw) and also developed [ipywidgets](https://github.com/jakevdp/ipywidgets) and [mpld3](https://github.com/jakevdp/mpld3).\n",
      " \n",
      "## Goals\n",
      "\n",
      "Develop more notebooks illustrating:\n",
      "\n",
      " - Exact and approximate Riemann solutions,\n",
      " - Setting up and solving problems with PyClaw / Fortran codes,\n",
      " - Python tools for visualization, \n",
      " - Python tools for topography, seafloor deformation, etc. in GeoClaw\n",
      " "
     ]
    },
    {
     "cell_type": "markdown",
     "metadata": {},
     "source": [
      "## Sample notebooks\n",
      "\n",
      " - [Clawpack gallery notebooks](http://www.clawpack.org/notebooks.html) -- Several of these need updating!\n",
      " - (Demo the different limiters for advection and the shallow water Riemann solver)\n",
      " \n",
      "The demos below are based on [clawpack/apps@c7e13e3240](https://github.com/clawpack/apps/tree/c7e13e3240).  These are still being developed and may change or disappear in future versions.\n",
      "\n",
      " - [Testing Riemann solvers](riemann/riemann_tester.ipynb)\n",
      " - [New version of amrclaw example](amrclaw/advection_2d_square/amrclaw_advection_2d_square.ipynb)\n",
      " "
     ]
    }
   ],
   "metadata": {}
  }
 ]
}