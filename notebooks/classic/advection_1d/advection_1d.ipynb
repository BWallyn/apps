{
 "metadata": {
  "name": ""
 },
 "nbformat": 3,
 "nbformat_minor": 0,
 "worksheets": [
  {
   "cells": [
    {
     "cell_type": "markdown",
     "metadata": {},
     "source": [
      "# Advection in one dimension\n",
      "\n",
      "Demo of running Fortran code and plotting results from an IPython notebook, and illustration of the behavior of various methods and limiters on the same problem."
     ]
    },
    {
     "cell_type": "markdown",
     "metadata": {},
     "source": [
      "This notebook can be found in `$CLAW/apps/notebooks/classic/advection_1d`\n",
      "\n",
      "The 1-dimensional advection equation $q_t + uq_x = 0$ is solved in an interval.\n",
      "\n",
      "The constant advection velocity $u$ is specified in setrun.py but can be changed below."
     ]
    },
    {
     "cell_type": "markdown",
     "metadata": {},
     "source": [
      "Have plots appear inline in notebook:"
     ]
    },
    {
     "cell_type": "code",
     "collapsed": false,
     "input": [
      "%pylab inline"
     ],
     "language": "python",
     "metadata": {},
     "outputs": [],
     "prompt_number": null
    },
    {
     "cell_type": "markdown",
     "metadata": {},
     "source": [
      "Check that the CLAW environment variable is set.  (It must be set in the Unix shell before starting the notebook server)."
     ]
    },
    {
     "cell_type": "code",
     "collapsed": false,
     "input": [
      "import os\n",
      "try:\n",
      "    CLAW = os.environ['CLAW'] \n",
      "    print \"Using Clawpack from \", CLAW\n",
      "except:\n",
      "    print \"*** Environment variable CLAW must be set to run code\""
     ],
     "language": "python",
     "metadata": {},
     "outputs": [],
     "prompt_number": null
    },
    {
     "cell_type": "markdown",
     "metadata": {},
     "source": [
      "### Module with functions used to execute system commands and capture output:"
     ]
    },
    {
     "cell_type": "code",
     "collapsed": false,
     "input": [
      "from clawpack.clawutil import nbtools"
     ],
     "language": "python",
     "metadata": {},
     "outputs": [],
     "prompt_number": null
    },
    {
     "cell_type": "heading",
     "level": 3,
     "metadata": {},
     "source": [
      "Compile the code:"
     ]
    },
    {
     "cell_type": "code",
     "collapsed": false,
     "input": [
      "nbtools.make_exe(new=True)  # new=True ==> force recompilation of all code"
     ],
     "language": "python",
     "metadata": {},
     "outputs": [],
     "prompt_number": null
    },
    {
     "cell_type": "markdown",
     "metadata": {},
     "source": [
      "### Make documentation files:"
     ]
    },
    {
     "cell_type": "code",
     "collapsed": false,
     "input": [
      "nbtools.make_htmls()"
     ],
     "language": "python",
     "metadata": {},
     "outputs": [],
     "prompt_number": null
    },
    {
     "cell_type": "markdown",
     "metadata": {},
     "source": [
      "### Run the code and plot results using the setrun.py and setplot.py files in this directory:\n",
      "\n",
      "First create data files needed for the Fortran code, using parameters specified in setrun.py:"
     ]
    },
    {
     "cell_type": "code",
     "collapsed": false,
     "input": [
      "nbtools.make_data(verbose=False)"
     ],
     "language": "python",
     "metadata": {},
     "outputs": [],
     "prompt_number": null
    },
    {
     "cell_type": "markdown",
     "metadata": {},
     "source": [
      "Now run the code and produce plots.  Specifying a label insures the resulting plot directory will persist after later runs are done below."
     ]
    },
    {
     "cell_type": "code",
     "collapsed": false,
     "input": [
      "outdir,plotdir = nbtools.make_output_and_plots(label='1')"
     ],
     "language": "python",
     "metadata": {},
     "outputs": [],
     "prompt_number": null
    },
    {
     "cell_type": "markdown",
     "metadata": {},
     "source": [
      "### Display the animation inline:\n",
      "\n",
      "Clicking on the _PlotIndex link above, you can view an animation of the results.  \n",
      "\n",
      "After creating all png files in the _plots directory, these can also be combined in an animation that is displayed inline:"
     ]
    },
    {
     "cell_type": "code",
     "collapsed": false,
     "input": [
      "import clawpack.visclaw.JSAnimation.JSAnimation_frametools as J\n",
      "anim = J.make_anim(plotdir, figno=1, figsize=(6,4))\n",
      "anim"
     ],
     "language": "python",
     "metadata": {},
     "outputs": [],
     "prompt_number": null
    },
    {
     "cell_type": "markdown",
     "metadata": {},
     "source": [
      "## Adjust some parameters to explore the methods in Clawpack\n",
      "\n",
      "The animation above was computed using the default parameter values specified in `setrun.py`, which specified using the high-resolution method with the MC limiter.\n",
      "See the <a href=\"README.html\">README.html</a> file for a link to `setrun.py`.\n",
      "\n",
      "We can adjust the parameters by reading in the default values, changing one or more, and then  writing the data out for the Fortran code to use:"
     ]
    },
    {
     "cell_type": "code",
     "collapsed": false,
     "input": [
      "import setrun\n",
      "rundata = setrun.setrun()\n",
      "\n",
      "print \"The order is currently set to \",rundata.clawdata.order\n",
      "print \"The limiter is currently set to \",rundata.clawdata.limiter"
     ],
     "language": "python",
     "metadata": {},
     "outputs": [],
     "prompt_number": null
    },
    {
     "cell_type": "markdown",
     "metadata": {},
     "source": [
      "### First order upwind method\n",
      "\n",
      "Switch to the first order method and write out the data.  Then rerun the code. Note that the results are much more diffusive."
     ]
    },
    {
     "cell_type": "code",
     "collapsed": false,
     "input": [
      "rundata.clawdata.order = 1\n",
      "rundata.write()\n",
      "\n",
      "outdir, plotdir = nbtools.make_output_and_plots(verbose=False)\n",
      "anim = J.make_anim(plotdir, figno=1, figsize=(6,4))\n",
      "anim"
     ],
     "language": "python",
     "metadata": {},
     "outputs": [],
     "prompt_number": null
    },
    {
     "cell_type": "markdown",
     "metadata": {},
     "source": [
      "### Lax-Wendroff method\n",
      "\n",
      "Switch back to the second-order method and use no limiter so the high-resolution method reduces to Lax-Wendroff.\n",
      "\n",
      "A list of 1 limiter is required since this is a scalar problem with only 1 wave in the Riemann solution, so we set the limiter to `['none']`.\n",
      "\n",
      "Note that the Lax-Wendroff method is dispersive and introduces spurious oscillations, particularly near the discontinuities in the solution."
     ]
    },
    {
     "cell_type": "code",
     "collapsed": false,
     "input": [
      "rundata.clawdata.order = 2\n",
      "rundata.clawdata.limiter = ['none']\n",
      "rundata.write()\n",
      "\n",
      "outdir, plotdir = nbtools.make_output_and_plots(verbose=False)\n",
      "anim = J.make_anim(plotdir, figno=1, figsize=(6,4))\n",
      "anim"
     ],
     "language": "python",
     "metadata": {},
     "outputs": [],
     "prompt_number": null
    },
    {
     "cell_type": "markdown",
     "metadata": {},
     "source": [
      "## Exercise\n",
      "\n",
      "Try the Lax-Wendroff method with 400 grid cells rather than the 200 used by default.  Do the oscillations decrease in amplitude?  The parameter to change is `rundata.clawdata.num_cells`, which is a list of the number of cells in each direction (only a single entry for this 1-dimensional problem)."
     ]
    },
    {
     "cell_type": "code",
     "collapsed": false,
     "input": [
      "print \"The number of grid cells is currently set to \", rundata.clawdata.num_cells"
     ],
     "language": "python",
     "metadata": {},
     "outputs": [],
     "prompt_number": null
    },
    {
     "cell_type": "code",
     "collapsed": false,
     "input": [],
     "language": "python",
     "metadata": {},
     "outputs": [],
     "prompt_number": null
    }
   ],
   "metadata": {}
  }
 ]
}